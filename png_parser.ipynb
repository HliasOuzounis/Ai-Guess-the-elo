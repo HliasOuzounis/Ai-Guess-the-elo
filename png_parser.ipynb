{
 "cells": [
  {
   "cell_type": "code",
   "execution_count": 15,
   "metadata": {},
   "outputs": [],
   "source": [
    "import torch\n",
    "\n",
    "\n",
    "mapings = {\n",
    "    \"P\": 0, \"N\": 1, \"B\": 2, \"R\": 3, \"Q\": 4, \"K\": 5,\n",
    "    \"p\": 6, \"n\": 7, \"b\": 8, \"r\": 9, \"q\": 10, \"k\": 11\n",
    "}\n",
    "\n",
    "def fen_to_bitboard(fen_str):\n",
    "    bitboard = torch.zeros(12, 64)\n",
    "    fen, move, _castle, _en_passant, _halfmove, _fullmove = fen_str.split(\" \")\n",
    "    row, col = 0, 0\n",
    "    for char in fen:\n",
    "        if char == \"/\":\n",
    "            row += 1\n",
    "            col = 0\n",
    "        elif char.isdigit():\n",
    "            col += int(char)\n",
    "        else:\n",
    "            bitboard[mapings[char], row * 8 + col] = 1\n",
    "            col += 1\n",
    "    # Flatten the bitboard and add whose move it is\n",
    "    return torch.cat((torch.tensor([1 if move == \"w\" else -1]), bitboard.flatten()))"
   ]
  },
  {
   "cell_type": "code",
   "execution_count": 16,
   "metadata": {},
   "outputs": [],
   "source": [
    "import chess.pgn\n",
    "import chess.engine"
   ]
  },
  {
   "cell_type": "code",
   "execution_count": 17,
   "metadata": {},
   "outputs": [],
   "source": [
    "rating_ranges = [\"-900\", \"900-1100\", \"1100-1300\", \"1300-1500\", \"1500-1700\", \"1700-1900\", \"1900-2100\", \"2100-2300\", \"2300-2500\", \"2500-\"]"
   ]
  },
  {
   "cell_type": "code",
   "execution_count": 20,
   "metadata": {},
   "outputs": [],
   "source": [
    "def my_int(c):\n",
    "    try:\n",
    "        return int(c)\n",
    "    except ValueError:\n",
    "        return 0"
   ]
  },
  {
   "cell_type": "code",
   "execution_count": 47,
   "metadata": {},
   "outputs": [
    {
     "name": "stdout",
     "output_type": "stream",
     "text": [
      "-900 games: 200 done\n",
      "900-1100 games: 200 done\n",
      "1100-1300 games: 200 done\n",
      "1300-1500 games: 200 done\n",
      "1500-1700 games: 200 done\n",
      "1700-1900 games: 200 done\n",
      "1900-2100 games: 200 done\n",
      "2100-2300 games: 200 done\n",
      "2300-2500 games: 200 done\n",
      "2500- games: 200 done\n",
      "Min elo: 800, Max elo: 2805\n"
     ]
    }
   ],
   "source": [
    "chess_games = {rating: [] for rating in rating_ranges}\n",
    "min_elo = 9999\n",
    "max_elo = 0\n",
    "\n",
    "for rating_range in rating_ranges:\n",
    "    file = \"datasets/outputs/\" + rating_range + \".pgn\"\n",
    "\n",
    "    lower_bound = my_int(rating_range.split(\"-\")[0])\n",
    "    upper_bound = my_int(rating_range.split(\"-\")[1])\n",
    "\n",
    "    lower_bound = max(0, lower_bound)\n",
    "    upper_bound = upper_bound if upper_bound else 3000\n",
    "\n",
    "    with open(file) as f:\n",
    "        while len(chess_games[rating_range]) < 200:\n",
    "            game = chess.pgn.read_game(f)\n",
    "            if game is None:\n",
    "                break\n",
    "            if \"UltraBullet\" in game.headers[\"Event\"]:\n",
    "                continue\n",
    "            if \"Bullet\" in game.headers[\"Event\"] and lower_bound <= 2100:\n",
    "                continue\n",
    "            if game.headers[\"WhiteElo\"] == \"?\" or game.headers[\"BlackElo\"] == \"?\":\n",
    "                continue\n",
    "            if (\n",
    "                not lower_bound <= int(game.headers[\"WhiteElo\"]) <= upper_bound\n",
    "                or not lower_bound <= int(game.headers[\"BlackElo\"]) <= upper_bound\n",
    "            ):\n",
    "                continue\n",
    "            \n",
    "            chess_games[rating_range].append(game)\n",
    "            \n",
    "            min_elo = min(min_elo, int(game.headers[\"WhiteElo\"]), int(game.headers[\"BlackElo\"]))\n",
    "            max_elo = max(max_elo, int(game.headers[\"WhiteElo\"]), int(game.headers[\"BlackElo\"]))\n",
    "            \n",
    "    print(f\"{rating_range} games: {len(chess_games[rating_range])} done\")\n",
    "    \n",
    "print(f\"Min elo: {min_elo}, Max elo: {max_elo}\")"
   ]
  },
  {
   "cell_type": "code",
   "execution_count": 28,
   "metadata": {},
   "outputs": [],
   "source": [
    "engine = chess.engine.SimpleEngine.popen_uci(\"/usr/bin/stockfish\")\n",
    "mate_score = 99999"
   ]
  },
  {
   "cell_type": "code",
   "execution_count": 30,
   "metadata": {},
   "outputs": [],
   "source": [
    "def get_top_moves(board, n):\n",
    "    moves = []\n",
    "    for move in board.legal_moves:\n",
    "        board.push(move)\n",
    "        moves.append((move, engine.analyse(board, chess.engine.Limit(time=0.1))[\"score\"].white().score(mate_score=mate_score)))\n",
    "        board.pop()\n",
    "    return sorted(moves, key=lambda x: x[1], reverse=board.turn)[:n]\n",
    "\n",
    "def pad_tensor(tensor, pad_len, pad_value):\n",
    "    if tensor.shape[0] >= pad_len:\n",
    "        return tensor[:pad_len]\n",
    "    \n",
    "    return torch.tensor([tensor.tolist() + [pad_value] * (pad_len - tensor.shape[0])]).flatten()"
   ]
  },
  {
   "cell_type": "code",
   "execution_count": 62,
   "metadata": {},
   "outputs": [],
   "source": [
    "def analyze_game(game, nof_moves):\n",
    "    board = game.board()\n",
    "    analysis = [] \n",
    "    \n",
    "    for move in game.mainline_moves():\n",
    "        pad_value = -mate_score if board.turn else mate_score\n",
    "\n",
    "        board_position_tensor = fen_to_bitboard(board.fen())\n",
    "\n",
    "        # top_moves = get_top_moves(board, nof_moves)\n",
    "        # top_moves_tensor = pad_tensor(torch.tensor([move[1] for move in top_moves]), nof_moves, pad_value)\n",
    "        top_moves_tensor = torch.tensor([engine.analyse(board, chess.engine.Limit(time=0.1))[\"score\"].white().score(mate_score=mate_score)])\n",
    "        \n",
    "        board.push(move)\n",
    "        \n",
    "        board_eval_tensor = torch.tensor([engine.analyse(board, chess.engine.Limit(time=0.1))[\"score\"].white().score(mate_score=mate_score)])\n",
    "        \n",
    "        analysis.append(torch.cat((board_position_tensor, top_moves_tensor, board_eval_tensor)))\n",
    "        \n",
    "    white_analysis = analysis[::2]\n",
    "    black_analysis = analysis[1::2]\n",
    "    \n",
    "    white_elo = int(game.headers[\"WhiteElo\"])\n",
    "    black_elo = int(game.headers[\"BlackElo\"])\n",
    "    \n",
    "    return white_analysis, black_analysis, calculate_elo_range(white_elo), calculate_elo_range(black_elo)\n",
    "\n",
    "def calculate_elo_range(elo):\n",
    "    rating_ranges = [\n",
    "        (400, 900), \n",
    "        (900, 1100),\n",
    "        (1100, 1300), \n",
    "        (1300, 1500), \n",
    "        (1500, 1700), \n",
    "        (1700, 1900), \n",
    "        (1900, 2100), \n",
    "        (2100, 2300), \n",
    "        (2300, 2500), \n",
    "        (2500, 3000)\n",
    "    ]\n",
    "    import scipy.stats as st\n",
    "    stdv = 200\n",
    "    return torch.tensor(\n",
    "        [\n",
    "            st.norm.cdf(rating_range[1], loc=elo, scale=stdv) - \n",
    "            st.norm.cdf(rating_range[0], loc=elo, scale=stdv) \n",
    "            for rating_range in rating_ranges\n",
    "            ]\n",
    "    )"
   ]
  },
  {
   "cell_type": "code",
   "execution_count": 63,
   "metadata": {},
   "outputs": [],
   "source": [
    "def guess_elo_range(elo_range):\n",
    "    rating_ranges = [\n",
    "        (400, 900), \n",
    "        (900, 1100),\n",
    "        (1100, 1300), \n",
    "        (1300, 1500), \n",
    "        (1500, 1700), \n",
    "        (1700, 1900), \n",
    "        (1900, 2100), \n",
    "        (2100, 2300), \n",
    "        (2300, 2500), \n",
    "        (2500, 3000)\n",
    "    ]\n",
    "    s = 0\n",
    "    for r, probability in zip(rating_ranges, elo_range):\n",
    "        s += probability * (r[0] + r[1]) / 2\n",
    "    \n",
    "    return s / sum(elo_range)"
   ]
  },
  {
   "cell_type": "code",
   "execution_count": 64,
   "metadata": {},
   "outputs": [
    {
     "name": "stdout",
     "output_type": "stream",
     "text": [
      "892 vs 848\n",
      "Converted: 855.051753653754 vs 814.4264989154635\n",
      "820 vs 800\n",
      "Converted: 790.9802347135861 vs 775.49371971151\n",
      "858 vs 844\n",
      "Converted: 823.2734102322725 vs 810.955659853074\n",
      "938 vs 922\n",
      "Converted: 901.6028382227018 vs 885.010027990772\n",
      "943 vs 970\n",
      "Converted: 906.8642213103817 vs 935.8104896750864\n",
      "1084 vs 1042\n",
      "Converted: 1063.1561676080926 vs 1015.8353795257541\n",
      "1222 vs 1224\n",
      "Converted: 1214.8927825538256 vs 1217.027464305744\n",
      "1186 vs 1237\n",
      "Converted: 1176.139758730575 vs 1230.8575886425017\n",
      "1183 vs 1187\n",
      "Converted: 1172.8818174691519 vs 1177.2247599986629\n",
      "1340 vs 1369\n",
      "Converted: 1338.055495281748 vs 1367.6571090467905\n",
      "1451 vs 1478\n",
      "Converted: 1450.5774132071112 vs 1477.7212473883476\n",
      "1314 vs 1393\n",
      "Converted: 1311.336487208608 vs 1392.0264863431503\n",
      "1648 vs 1514\n",
      "Converted: 1647.9879319459133 vs 1513.844269589269\n",
      "1531 vs 1534\n",
      "Converted: 1530.8830061909298 vs 1533.8888485755729\n",
      "1652 vs 1628\n",
      "Converted: 1651.9891112448408 vs 1627.9808696541227\n",
      "1772 vs 1785\n",
      "Converted: 1772.0191303458773 vs 1785.0250703651532\n",
      "1823 vs 1844\n",
      "Converted: 1823.0519217624867 vs 1844.075794062502\n",
      "1745 vs 1771\n",
      "Converted: 1745.010045506756 vs 1771.0187229755943\n",
      "1955 vs 1924\n",
      "Converted: 1955.4624195394838 vs 1924.2876507782235\n",
      "1983 vs 2003\n",
      "Converted: 1983.6960329795222 vs 2003.9214550062097\n",
      "1982 vs 1963\n",
      "Converted: 1982.6861641777425 vs 1963.5207292505686\n",
      "2253 vs 2295\n",
      "Converted: 2266.5512326359653 vs 2313.268647347643\n",
      "2118 vs 2182\n",
      "Converted: 2121.835994533309 vs 2189.382246048186\n",
      "2266 vs 2229\n",
      "Converted: 2280.9369937807814 vs 2240.193842001654\n",
      "2342 vs 2320\n",
      "Converted: 2366.1345866639 vs 2341.3451410277216\n",
      "2363 vs 2352\n",
      "Converted: 2389.7927802884387 vs 2377.405909114355\n",
      "2351 vs 2343\n",
      "Converted: 2376.2790656994594 vs 2367.2619036266024\n",
      "2662 vs 2505\n",
      "Converted: 2665.4743277639577 vs 2542.0274717905095\n",
      "2509 vs 2659\n",
      "Converted: 2545.9178787636706 vs 2663.7394944546454\n",
      "2516 vs 2578\n",
      "Converted: 2552.6486705159678 vs 2607.412157195558\n"
     ]
    }
   ],
   "source": [
    "x_dataset = []\n",
    "y_dataset = []\n",
    "for games in chess_games.values():\n",
    "    for game in games[:3]:\n",
    "        white_analysis, black_analysis, white_elo_range, black_elo_range = analyze_game(game, 10)\n",
    "        \n",
    "        x_dataset.append(white_analysis)\n",
    "        x_dataset.append(black_analysis)\n",
    "        y_dataset.append(white_elo_range)\n",
    "        y_dataset.append(black_elo_range)\n",
    "        \n",
    "        print(f\"{game.headers['WhiteElo']} vs {game.headers['BlackElo']}\")\n",
    "    "
   ]
  },
  {
   "cell_type": "code",
   "execution_count": 82,
   "metadata": {},
   "outputs": [
    {
     "name": "stdout",
     "output_type": "stream",
     "text": [
      "60\n",
      "14\n",
      "771\n"
     ]
    }
   ],
   "source": [
    "print(len(x_dataset))\n",
    "print(len(x_dataset[0]))\n",
    "print(len(x_dataset[0][0]))"
   ]
  },
  {
   "cell_type": "code",
   "execution_count": 96,
   "metadata": {},
   "outputs": [
    {
     "ename": "IndexError",
     "evalue": "too many indices for tensor of dimension 2",
     "output_type": "error",
     "traceback": [
      "\u001b[0;31m---------------------------------------------------------------------------\u001b[0m",
      "\u001b[0;31mIndexError\u001b[0m                                Traceback (most recent call last)",
      "Cell \u001b[0;32mIn[96], line 7\u001b[0m\n\u001b[1;32m      3\u001b[0m lstm, optimizer, loss_func \u001b[39m=\u001b[39m initialize_model(input_size\u001b[39m=\u001b[39m\u001b[39mlen\u001b[39m(x_dataset[\u001b[39m0\u001b[39m][\u001b[39m0\u001b[39m]), hidden_size\u001b[39m=\u001b[39m\u001b[39m128\u001b[39m, num_layers\u001b[39m=\u001b[39m\u001b[39m2\u001b[39m, num_classes\u001b[39m=\u001b[39m\u001b[39mlen\u001b[39m(y_dataset[\u001b[39m0\u001b[39m]))\n\u001b[1;32m      5\u001b[0m x_train \u001b[39m=\u001b[39m [torch\u001b[39m.\u001b[39mstack([position \u001b[39mfor\u001b[39;00m position \u001b[39min\u001b[39;00m game]) \u001b[39mfor\u001b[39;00m game \u001b[39min\u001b[39;00m x_dataset]\n\u001b[0;32m----> 7\u001b[0m train_model(lstm, optimizer, loss_func, (x_train, y_dataset), num_epochs\u001b[39m=\u001b[39;49m\u001b[39m100\u001b[39;49m)\n",
      "File \u001b[0;32m~/code/elo_guesser/lstm_netwrok.py:75\u001b[0m, in \u001b[0;36mtrain_model\u001b[0;34m(model, optimizer, loss_func, train_data, num_epochs)\u001b[0m\n\u001b[1;32m     68\u001b[0m \u001b[39m# BATCH GAMES TOGETHER BASED ON NUMBER OF MOVES\u001b[39;00m\n\u001b[1;32m     69\u001b[0m \u001b[39m# Train the model on each move => \u001b[39;00m\n\u001b[1;32m     70\u001b[0m \u001b[39m# + More samples and better predictions for small games    \u001b[39;00m\n\u001b[1;32m     71\u001b[0m \u001b[39m# - Computationally expensive\u001b[39;00m\n\u001b[1;32m     72\u001b[0m \u001b[39m# Will maybe change to transformers later\u001b[39;00m\n\u001b[1;32m     73\u001b[0m \u001b[39mfor\u001b[39;00m num_moves \u001b[39min\u001b[39;00m \u001b[39mrange\u001b[39m(\u001b[39m1\u001b[39m, x_train\u001b[39m.\u001b[39mshape[\u001b[39m1\u001b[39m] \u001b[39m+\u001b[39m \u001b[39m1\u001b[39m):\n\u001b[1;32m     74\u001b[0m     propabilities, (_hidden_states, _cell_states) \u001b[39m=\u001b[39m model(\n\u001b[0;32m---> 75\u001b[0m         x_train[:, :num_moves, :], hidden_states, cell_states\n\u001b[1;32m     76\u001b[0m     )\n\u001b[1;32m     78\u001b[0m     loss \u001b[39m=\u001b[39m loss_func(propabilities, y_train)\n\u001b[1;32m     79\u001b[0m     loss\u001b[39m.\u001b[39mbackward()\n",
      "\u001b[0;31mIndexError\u001b[0m: too many indices for tensor of dimension 2"
     ]
    }
   ],
   "source": [
    "from lstm_netwrok import train_model, initialize_model\n",
    "\n",
    "lstm, optimizer, loss_func = initialize_model(input_size=len(x_dataset[0][0]), hidden_size=128, num_layers=2, num_classes=len(y_dataset[0]))\n",
    "\n",
    "x_train = [torch.stack([position for position in game]) for game in x_dataset]\n",
    "\n",
    "train_model(lstm, optimizer, loss_func, (x_train, y_dataset), num_epochs=100)"
   ]
  }
 ],
 "metadata": {
  "kernelspec": {
   "display_name": "Python 3",
   "language": "python",
   "name": "python3"
  },
  "language_info": {
   "codemirror_mode": {
    "name": "ipython",
    "version": 3
   },
   "file_extension": ".py",
   "mimetype": "text/x-python",
   "name": "python",
   "nbconvert_exporter": "python",
   "pygments_lexer": "ipython3",
   "version": "3.10.10"
  },
  "orig_nbformat": 4
 },
 "nbformat": 4,
 "nbformat_minor": 2
}
