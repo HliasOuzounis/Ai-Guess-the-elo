{
 "cells": [
  {
   "cell_type": "code",
   "execution_count": 30,
   "metadata": {},
   "outputs": [],
   "source": [
    "import torch"
   ]
  },
  {
   "attachments": {},
   "cell_type": "markdown",
   "metadata": {},
   "source": [
    "### Load Analyzed Games"
   ]
  },
  {
   "cell_type": "code",
   "execution_count": 31,
   "metadata": {},
   "outputs": [],
   "source": [
    "dataset = torch.load(\"datasets/all_games_analyzed.pt\")"
   ]
  },
  {
   "cell_type": "code",
   "execution_count": 32,
   "metadata": {},
   "outputs": [
    {
     "name": "stdout",
     "output_type": "stream",
     "text": [
      "Number of games: 2000\n",
      "Moves of first game: 14\n",
      "Input size: 771\n"
     ]
    }
   ],
   "source": [
    "# dataset is of the form [(white_analysis, black_analysis), (white_elo, black_elo)]\n",
    "print(f\"Number of games: {len(dataset)}\")\n",
    "print(f\"Moves of first game: {len(dataset[0][0][0])}\")\n",
    "print(f\"Input size: {len(dataset[0][0][0][0])}\")\n",
    "\n",
    "input_size = len(dataset[0][0][0][0])"
   ]
  },
  {
   "attachments": {},
   "cell_type": "markdown",
   "metadata": {},
   "source": [
    "### Define the Model"
   ]
  },
  {
   "cell_type": "code",
   "execution_count": 33,
   "metadata": {},
   "outputs": [],
   "source": [
    "from lstm_netwrok import initialize_model"
   ]
  },
  {
   "cell_type": "code",
   "execution_count": 34,
   "metadata": {},
   "outputs": [
    {
     "name": "stdout",
     "output_type": "stream",
     "text": [
      "Using GPU: NVIDIA GeForce MX230\n"
     ]
    }
   ],
   "source": [
    "# Switch to GPU if available for faster calculations\n",
    "if torch.cuda.is_available():\n",
    "    device = torch.device(\"cuda\")          # Use CUDA device\n",
    "    print('Using GPU:', torch.cuda.get_device_name(0))\n",
    "    torch.cuda.empty_cache()\n",
    "else:\n",
    "    device = torch.device(\"cpu\") "
   ]
  },
  {
   "cell_type": "code",
   "execution_count": 35,
   "metadata": {},
   "outputs": [],
   "source": [
    "hidden_size = 128\n",
    "num_layers = 2\n",
    "lstm_model, optimizer = initialize_model(input_size, hidden_size, num_layers, device)"
   ]
  },
  {
   "attachments": {},
   "cell_type": "markdown",
   "metadata": {},
   "source": [
    "### Modify the dataset for training"
   ]
  },
  {
   "cell_type": "code",
   "execution_count": 36,
   "metadata": {},
   "outputs": [],
   "source": [
    "import random\n",
    "\n",
    "total_games = len(dataset)\n",
    "# Define maximum elo in the dataset for normalization\n",
    "max_elo = 3000\n",
    "# max_elo = max([max(game[1]) for game in dataset])\n",
    "\n",
    "# Spilt into train and test data\n",
    "test_games = int(total_games * 0.15)\n",
    "\n",
    "random.shuffle(dataset)\n",
    "\n",
    "# Also batch together black and white analysis for each game\n",
    "x_train = [torch.stack(game[0]).to(device) for game in dataset[:-test_games]]\n",
    "y_train = [torch.tensor(game[1]).float().reshape((2, 1)).to(device)/max_elo for game in dataset[:-test_games]]\n",
    "\n",
    "x_test =  [torch.stack(game[0]).to(device) for game in dataset[-test_games:]]\n",
    "y_test =  [torch.tensor(game[1]).float().reshape((2, 1)).to(device)/max_elo for game in dataset[-test_games:]]"
   ]
  },
  {
   "attachments": {},
   "cell_type": "markdown",
   "metadata": {},
   "source": [
    "### Train the model"
   ]
  },
  {
   "cell_type": "code",
   "execution_count": 37,
   "metadata": {},
   "outputs": [],
   "source": [
    "from lstm_netwrok import train_model"
   ]
  },
  {
   "cell_type": "code",
   "execution_count": 38,
   "metadata": {},
   "outputs": [
    {
     "name": "stdout",
     "output_type": "stream",
     "text": [
      "Epoch: 1, Validation Loss: 0.03358855346566498\n",
      "Epoch: 2, Validation Loss: 0.03542830093931258\n",
      "Epoch: 3, Validation Loss: 0.02962198752802757\n",
      "Epoch: 4, Validation Loss: 0.025643248142125017\n",
      "Epoch: 5, Validation Loss: 0.02660174961129087\n",
      "Epoch: 6, Validation Loss: 0.02587602866751338\n",
      "Epoch: 7, Validation Loss: 0.026614633904276108\n",
      "Epoch: 8, Validation Loss: 0.025036501031782416\n",
      "Epoch: 9, Validation Loss: 0.02404109207085033\n",
      "Epoch: 10, Validation Loss: 0.02684539639160671\n"
     ]
    }
   ],
   "source": [
    "# MSE loss for single output prediction\n",
    "loss_func = torch.nn.functional.mse_loss\n",
    "\n",
    "loss_graph = train_model(lstm_model, optimizer, loss_func, (x_train, y_train), num_epochs=10)"
   ]
  },
  {
   "cell_type": "code",
   "execution_count": 40,
   "metadata": {},
   "outputs": [
    {
     "data": {
      "text/plain": [
       "[<matplotlib.lines.Line2D at 0x7f85e04158a0>]"
      ]
     },
     "execution_count": 40,
     "metadata": {},
     "output_type": "execute_result"
    },
    {
     "data": {
      "image/png": "[encoded data removed]",
      "text/plain": [
       "<Figure size 640x480 with 1 Axes>"
      ]
     },
     "metadata": {},
     "output_type": "display_data"
    }
   ],
   "source": [
    "import matplotlib.pyplot as plt\n",
    "\n",
    "# Visualize the loss as the network trained\n",
    "# Should be a downward trend\n",
    "plt.plot(loss_graph)"
   ]
  },
  {
   "attachments": {},
   "cell_type": "markdown",
   "metadata": {},
   "source": [
    "### Test how the model predicts new data\n",
    "\n",
    "The predictions of the model are compared to a random guessing and a constant guessing model\n"
   ]
  },
  {
   "cell_type": "code",
   "execution_count": 66,
   "metadata": {},
   "outputs": [],
   "source": [
    "predictions = []\n",
    "real_values = []\n",
    "\n",
    "for x, y in zip(x_test, y_test):\n",
    "    # Predict for white and black\n",
    "    out = lstm_model.forward(x[0], train=False)[0] # [0] to get rid of hidden states\n",
    "    predictions.append(out[0].item() * max_elo)\n",
    "    real_values.append(y[0].item() * max_elo)\n",
    "\n",
    "    out = lstm_model.forward(x[1], train=False)[0]\n",
    "    \n",
    "    predictions.append(out[0].item() * max_elo) # [0].item() to get rid of batch dimension and get the elo prediction\n",
    "    real_values.append(y[1].item() * max_elo)"
   ]
  },
  {
   "cell_type": "code",
   "execution_count": 75,
   "metadata": {},
   "outputs": [
    {
     "name": "stdout",
     "output_type": "stream",
     "text": [
      "Correctly predicted 30.50% of games\n",
      "183 out of 600 predictions\n"
     ]
    }
   ],
   "source": [
    "def rate_predictions(predictions, real_values):\n",
    "    correct = 0\n",
    "    # We give the model a leeway of +-200 points\n",
    "    # More leeway = more accuracy\n",
    "    leeway = 200\n",
    "    for prediction, real in zip(predictions, real_values):\n",
    "        if real - leeway <= prediction <= real + leeway:\n",
    "            correct += 1\n",
    "    return correct / len(predictions), correct\n",
    "\n",
    "percentage, correct = rate_predictions(predictions, real_values)\n",
    "print(f\"Correctly predicted {percentage * 100:.2f}% of games\")\n",
    "print(f\"{correct} out of {len(predictions)} predictions\")"
   ]
  },
  {
   "cell_type": "code",
   "execution_count": 71,
   "metadata": {},
   "outputs": [
    {
     "name": "stdout",
     "output_type": "stream",
     "text": [
      "Correctly guessed at random 9.50% of games\n",
      "57 out of 600 predictions\n"
     ]
    }
   ],
   "source": [
    "import random\n",
    "\n",
    "random_predictions = [random.randint(800, 3000) for _ in range(len(predictions))]\n",
    "percentage, correct = rate_predictions(random_predictions, real_values)\n",
    "print(f\"Correctly guessed at random {percentage * 100:.2f}% of games\")\n",
    "print(f\"{correct} out of {len(random_predictions)} predictions\")   "
   ]
  },
  {
   "cell_type": "code",
   "execution_count": 73,
   "metadata": {},
   "outputs": [
    {
     "name": "stdout",
     "output_type": "stream",
     "text": [
      "Correctly guessed with constant guess 10.33% of games\n",
      "62 out of 600 predictions\n"
     ]
    }
   ],
   "source": [
    "constant_predictions = [(800 + 2800)//2 for _ in range(len(predictions))]\n",
    "percentage, correct = rate_predictions(constant_predictions, real_values)\n",
    "print(f\"Correctly guessed with constant guess {percentage * 100:.2f}% of games\")\n",
    "print(f\"{correct} out of {len(constant_predictions)} predictions\")   "
   ]
  },
  {
   "cell_type": "code",
   "execution_count": 50,
   "metadata": {},
   "outputs": [],
   "source": [
    "# If the results are acceptable, save the model\n",
    "torch.save(lstm_model.state_dict(), \"models/lstm_model_single_output.pt\")"
   ]
  }
 ],
 "metadata": {
  "kernelspec": {
   "display_name": "Python 3",
   "language": "python",
   "name": "python3"
  },
  "language_info": {
   "codemirror_mode": {
    "name": "ipython",
    "version": 3
   },
   "file_extension": ".py",
   "mimetype": "text/x-python",
   "name": "python",
   "nbconvert_exporter": "python",
   "pygments_lexer": "ipython3",
   "version": "3.10.10"
  },
  "orig_nbformat": 4
 },
 "nbformat": 4,
 "nbformat_minor": 2
}
