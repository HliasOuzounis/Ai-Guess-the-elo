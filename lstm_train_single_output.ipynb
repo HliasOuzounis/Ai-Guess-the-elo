{
 "cells": [
  {
   "cell_type": "code",
   "execution_count": 45,
   "metadata": {},
   "outputs": [],
   "source": [
    "import torch"
   ]
  },
  {
   "attachments": {},
   "cell_type": "markdown",
   "metadata": {},
   "source": [
    "### Load Analyzed Games"
   ]
  },
  {
   "cell_type": "code",
   "execution_count": 46,
   "metadata": {},
   "outputs": [],
   "source": [
    "dataset = torch.load(\"datasets/dataset_all_games.pt\")"
   ]
  },
  {
   "cell_type": "code",
   "execution_count": 47,
   "metadata": {},
   "outputs": [
    {
     "name": "stdout",
     "output_type": "stream",
     "text": [
      "500\n",
      "14\n",
      "771\n"
     ]
    }
   ],
   "source": [
    "# dataset = [(white_analysis, black_analysis), (white_elo, black_elo)]\n",
    "print(len(dataset)) # num of games\n",
    "print(len(dataset[0][0][0])) # moves of first game (for white)\n",
    "print(len(dataset[0][0][0][0])) # input size of the model"
   ]
  },
  {
   "attachments": {},
   "cell_type": "markdown",
   "metadata": {},
   "source": [
    "### Modify the dataset for training"
   ]
  },
  {
   "cell_type": "code",
   "execution_count": 48,
   "metadata": {},
   "outputs": [],
   "source": [
    "import random\n",
    "\n",
    "total_games = len(dataset)\n",
    "input_size = len(dataset[0][0][0][0])\n",
    "max_elo = max([max(game[1]) for game in dataset])\n",
    "\n",
    "test_games = int(total_games * 0.15)\n",
    "\n",
    "random.shuffle(dataset)\n",
    "\n",
    "x_train = [torch.stack(game[0]) for game in dataset[:-test_games]]\n",
    "y_train = [torch.tensor(game[1]).float().reshape((2, 1))/max_elo for game in dataset[:-test_games]]\n",
    "x_test =  [torch.stack(game[0]) for game in dataset[-test_games:]]\n",
    "y_test =  [torch.tensor(game[1]).float().reshape((2, 1))/max_elo for game in dataset[-test_games:]]"
   ]
  },
  {
   "attachments": {},
   "cell_type": "markdown",
   "metadata": {},
   "source": [
    "### Define the Model"
   ]
  },
  {
   "cell_type": "code",
   "execution_count": 49,
   "metadata": {},
   "outputs": [],
   "source": [
    "import torch\n",
    "from torch import nn, optim"
   ]
  },
  {
   "cell_type": "code",
   "execution_count": 50,
   "metadata": {},
   "outputs": [],
   "source": [
    "class LSTM(nn.Module):\n",
    "    def __init__(self, input_size, hidden_size, num_layers):\n",
    "        super(LSTM, self).__init__()\n",
    "        self.num_layers = num_layers\n",
    "        self.hidden_size = hidden_size\n",
    "        self.lstm = nn.LSTM(input_size, hidden_size, num_layers, batch_first=True)\n",
    "        self.fc = nn.Linear(hidden_size, 1)\n",
    "\n",
    "    def forward(self, X, h0=None, c0=None, train=True):\n",
    "        # If X is a single sample, add a batch dimension\n",
    "        if X.dim() == 2:\n",
    "            X = X.unsqueeze(0)\n",
    "            \n",
    "        if c0 is None:\n",
    "            c0 = torch.zeros(self.num_layers, X.size(0), self.hidden_size)\n",
    "        if h0 is None:\n",
    "            h0 = torch.zeros(self.num_layers, X.size(0), self.hidden_size)\n",
    "\n",
    "        out, (hn, cn) = self.lstm(X, (h0, c0))\n",
    "        \n",
    "        out = self.fc(out[:, -1, :])\n",
    "\n",
    "        return out, (hn, cn)"
   ]
  },
  {
   "cell_type": "code",
   "execution_count": 51,
   "metadata": {},
   "outputs": [],
   "source": [
    "def initialize_model(input_size, hidden_size, num_layers):\n",
    "    lstm_model = LSTM(input_size, hidden_size, num_layers)\n",
    "\n",
    "    learning_rate = 0.01\n",
    "    optimizer = optim.Adam(lstm_model.parameters(), lr=learning_rate)\n",
    "\n",
    "    loss_func = nn.functional.mse_loss\n",
    "\n",
    "    return lstm_model, optimizer, loss_func\n",
    "\n",
    "lstm_model, optimizer, loss_func = initialize_model(input_size, 64, 2)"
   ]
  },
  {
   "attachments": {},
   "cell_type": "markdown",
   "metadata": {},
   "source": [
    "### Train the model"
   ]
  },
  {
   "cell_type": "code",
   "execution_count": 52,
   "metadata": {},
   "outputs": [],
   "source": [
    "def train_model(model, optimizer, loss_func, train_data, num_epochs):\n",
    "\n",
    "    # train_data = [X_train, y_train]\n",
    "    x_train, y_train = train_data\n",
    "    # x_train.shape = (batch_size, num_moves, input_size)\n",
    "    # y_train.shape = (batch_size, 1)\n",
    "\n",
    "    total_games = len(x_train)\n",
    "    validation_games = int(total_games * 0.15)\n",
    "\n",
    "    x_val = x_train[-validation_games:]\n",
    "    y_val = y_train[-validation_games:]\n",
    "\n",
    "    x_train = x_train[:-validation_games]\n",
    "    y_train = y_train[:-validation_games]\n",
    "\n",
    "    batch_size = len(x_train[0])\n",
    "\n",
    "    loss_per_epoch = []\n",
    "    \n",
    "    \n",
    "\n",
    "    for epoch in range(num_epochs):\n",
    "        for batch, (x_game, y_game) in enumerate(zip(x_train, y_train)):\n",
    "\n",
    "            cell_states = torch.zeros(model.num_layers, batch_size, model.hidden_size)\n",
    "            hidden_states = torch.zeros(model.num_layers, batch_size, model.hidden_size)\n",
    "\n",
    "            # BATCH GAMES TOGETHER BASED ON NUMBER OF MOVES\n",
    "            # Will maybe change to transformers later\n",
    "\n",
    "            elo_guess, (_hidden_states, _cell_states) = model(\n",
    "                x_game, hidden_states, cell_states\n",
    "            )\n",
    "\n",
    "            loss = loss_func(elo_guess, y_game)\n",
    "\n",
    "            optimizer.zero_grad()\n",
    "            loss.backward()\n",
    "\n",
    "            optimizer.step()\n",
    "\n",
    "        cell_states = torch.zeros(model.num_layers, batch_size, model.hidden_size)\n",
    "        hidden_states = torch.zeros(model.num_layers, batch_size, model.hidden_size)\n",
    "        loss_sum = sum(\n",
    "            loss_func(model(x_val[i], cell_states, hidden_states)[0], y_val[i]).item()\n",
    "            for i in range(validation_games)\n",
    "        )\n",
    "\n",
    "        print(f\"Epoch: {epoch + 1}, Validation Loss: {loss_sum/validation_games}\")\n",
    "\n",
    "        loss_per_epoch.append(loss_sum / (validation_games + 1))\n",
    "\n",
    "    return loss_per_epoch\n"
   ]
  },
  {
   "cell_type": "code",
   "execution_count": 53,
   "metadata": {},
   "outputs": [
    {
     "name": "stdout",
     "output_type": "stream",
     "text": [
      "Epoch: 1, Validation Loss: 0.06071683538926115\n",
      "Epoch: 2, Validation Loss: 0.05113821144244404\n",
      "Epoch: 3, Validation Loss: 0.04644594661766903\n",
      "Epoch: 4, Validation Loss: 0.04586745988236212\n",
      "Epoch: 5, Validation Loss: 0.04692142366166947\n",
      "Epoch: 6, Validation Loss: 0.04866944210712857\n",
      "Epoch: 7, Validation Loss: 0.04911299310437504\n",
      "Epoch: 8, Validation Loss: 0.08241106846299584\n",
      "Epoch: 9, Validation Loss: 0.0567133301168695\n",
      "Epoch: 10, Validation Loss: 0.05577522867760207\n",
      "Epoch: 11, Validation Loss: 0.06247251788579253\n",
      "Epoch: 12, Validation Loss: 0.04732669977169107\n",
      "Epoch: 13, Validation Loss: 0.047003362421131144\n",
      "Epoch: 14, Validation Loss: 0.049424609022458925\n",
      "Epoch: 15, Validation Loss: 0.0367292004437851\n",
      "Epoch: 16, Validation Loss: 0.03785487030455399\n",
      "Epoch: 17, Validation Loss: 0.03987710553961473\n",
      "Epoch: 18, Validation Loss: 0.04159881729939361\n",
      "Epoch: 19, Validation Loss: 0.05389827436911652\n",
      "Epoch: 20, Validation Loss: 0.037515028620541596\n",
      "Epoch: 21, Validation Loss: 0.0402790239304378\n",
      "Epoch: 22, Validation Loss: 0.041081024538023425\n",
      "Epoch: 23, Validation Loss: 0.045441803039654\n",
      "Epoch: 24, Validation Loss: 0.043178173494298894\n",
      "Epoch: 25, Validation Loss: 0.05435538581606659\n",
      "Epoch: 26, Validation Loss: 0.04704317961457289\n",
      "Epoch: 27, Validation Loss: 0.04145595103286074\n",
      "Epoch: 28, Validation Loss: 0.03601830767556315\n",
      "Epoch: 29, Validation Loss: 0.05521886241539115\n",
      "Epoch: 30, Validation Loss: 0.041023743142085595\n"
     ]
    }
   ],
   "source": [
    "loss_graph = train_model(lstm_model, optimizer, loss_func, (x_train, y_train), num_epochs=30)"
   ]
  },
  {
   "cell_type": "code",
   "execution_count": 54,
   "metadata": {},
   "outputs": [
    {
     "data": {
      "text/plain": [
       "[<matplotlib.lines.Line2D at 0x7f4b3730f100>]"
      ]
     },
     "execution_count": 54,
     "metadata": {},
     "output_type": "execute_result"
    },
    {
     "data": {
      "image/png": "[encoded data removed]",
      "text/plain": [
       "<Figure size 640x480 with 1 Axes>"
      ]
     },
     "metadata": {},
     "output_type": "display_data"
    }
   ],
   "source": [
    "import matplotlib.pyplot as plt\n",
    "plt.plot(loss_graph)"
   ]
  },
  {
   "cell_type": "code",
   "execution_count": 55,
   "metadata": {},
   "outputs": [
    {
     "name": "stdout",
     "output_type": "stream",
     "text": [
      "White Prediction: 2493 vs White Real Elo: 2334\n",
      "Black Prediction: 2783 vs Black Real Elo: 2316\n",
      "White Prediction: 1210 vs White Real Elo: 1788\n",
      "Black Prediction: 1402 vs Black Real Elo: 1777\n",
      "White Prediction: 2084 vs White Real Elo: 2161\n",
      "Black Prediction: 2760 vs Black Real Elo: 2238\n",
      "White Prediction: 1995 vs White Real Elo: 2207\n",
      "Black Prediction: 1801 vs Black Real Elo: 2213\n",
      "White Prediction: 1709 vs White Real Elo: 2202\n",
      "Black Prediction: 1319 vs Black Real Elo: 2108\n",
      "White Prediction: 1329 vs White Real Elo: 810\n",
      "Black Prediction: 1280 vs Black Real Elo: 859\n",
      "White Prediction: 1680 vs White Real Elo: 1363\n",
      "Black Prediction: 1596 vs Black Real Elo: 1304\n",
      "White Prediction: 2006 vs White Real Elo: 1549\n",
      "Black Prediction: 2048 vs Black Real Elo: 1551\n",
      "White Prediction: 1230 vs White Real Elo: 1117\n",
      "Black Prediction: 1236 vs Black Real Elo: 1146\n",
      "White Prediction: 1282 vs White Real Elo: 1342\n",
      "Black Prediction: 1330 vs Black Real Elo: 1314\n",
      "White Prediction: 1051 vs White Real Elo: 804\n",
      "Black Prediction: 1201 vs Black Real Elo: 845\n",
      "White Prediction: 1315 vs White Real Elo: 883\n",
      "Black Prediction: 1221 vs Black Real Elo: 883\n",
      "White Prediction: 1200 vs White Real Elo: 1519\n",
      "Black Prediction: 1204 vs Black Real Elo: 1618\n",
      "White Prediction: 1877 vs White Real Elo: 2256\n",
      "Black Prediction: 2505 vs Black Real Elo: 2161\n",
      "White Prediction: 1532 vs White Real Elo: 1317\n",
      "Black Prediction: 1664 vs Black Real Elo: 1320\n",
      "White Prediction: 1252 vs White Real Elo: 1724\n",
      "Black Prediction: 1744 vs Black Real Elo: 1873\n",
      "White Prediction: 1552 vs White Real Elo: 1641\n",
      "Black Prediction: 2355 vs Black Real Elo: 1537\n",
      "White Prediction: 1794 vs White Real Elo: 886\n",
      "Black Prediction: 1552 vs Black Real Elo: 858\n",
      "White Prediction: 1493 vs White Real Elo: 1204\n",
      "Black Prediction: 1112 vs Black Real Elo: 1166\n",
      "White Prediction: 2570 vs White Real Elo: 1741\n",
      "Black Prediction: 2698 vs Black Real Elo: 1712\n",
      "White Prediction: 1557 vs White Real Elo: 804\n",
      "Black Prediction: 1979 vs Black Real Elo: 844\n",
      "White Prediction: 1952 vs White Real Elo: 1576\n",
      "Black Prediction: 2256 vs Black Real Elo: 1608\n",
      "White Prediction: 2063 vs White Real Elo: 2443\n",
      "Black Prediction: 1896 vs Black Real Elo: 2393\n",
      "White Prediction: 1349 vs White Real Elo: 878\n",
      "Black Prediction: 1229 vs Black Real Elo: 897\n",
      "White Prediction: 1958 vs White Real Elo: 2622\n",
      "Black Prediction: 1634 vs Black Real Elo: 2642\n",
      "White Prediction: 1343 vs White Real Elo: 1772\n",
      "Black Prediction: 1420 vs Black Real Elo: 1784\n",
      "White Prediction: 1710 vs White Real Elo: 1608\n",
      "Black Prediction: 1978 vs Black Real Elo: 1557\n",
      "White Prediction: 2379 vs White Real Elo: 2169\n",
      "Black Prediction: 1621 vs Black Real Elo: 2222\n",
      "White Prediction: 1411 vs White Real Elo: 2004\n",
      "Black Prediction: 1280 vs Black Real Elo: 1996\n",
      "White Prediction: 1491 vs White Real Elo: 1651\n",
      "Black Prediction: 1605 vs Black Real Elo: 1689\n",
      "White Prediction: 1458 vs White Real Elo: 1042\n",
      "Black Prediction: 1246 vs Black Real Elo: 1068\n",
      "White Prediction: 1337 vs White Real Elo: 867\n",
      "Black Prediction: 1247 vs Black Real Elo: 886\n",
      "White Prediction: 1661 vs White Real Elo: 1608\n",
      "Black Prediction: 2341 vs Black Real Elo: 1628\n",
      "White Prediction: 1476 vs White Real Elo: 1551\n",
      "Black Prediction: 1251 vs Black Real Elo: 1607\n",
      "White Prediction: 2254 vs White Real Elo: 1844\n",
      "Black Prediction: 2238 vs Black Real Elo: 1866\n",
      "White Prediction: 1301 vs White Real Elo: 1009\n",
      "Black Prediction: 1249 vs Black Real Elo: 950\n",
      "White Prediction: 1243 vs White Real Elo: 877\n",
      "Black Prediction: 1233 vs Black Real Elo: 850\n",
      "White Prediction: 1341 vs White Real Elo: 933\n",
      "Black Prediction: 1561 vs Black Real Elo: 1034\n",
      "White Prediction: 1625 vs White Real Elo: 810\n",
      "Black Prediction: 1479 vs Black Real Elo: 834\n",
      "White Prediction: 2529 vs White Real Elo: 2552\n",
      "Black Prediction: 2644 vs Black Real Elo: 2805\n",
      "White Prediction: 1679 vs White Real Elo: 1224\n",
      "Black Prediction: 1595 vs Black Real Elo: 1232\n",
      "White Prediction: 1852 vs White Real Elo: 1186\n",
      "Black Prediction: 1764 vs Black Real Elo: 1199\n",
      "White Prediction: 1230 vs White Real Elo: 1405\n",
      "Black Prediction: 1271 vs Black Real Elo: 1458\n",
      "White Prediction: 1302 vs White Real Elo: 2250\n",
      "Black Prediction: 1526 vs Black Real Elo: 2208\n",
      "White Prediction: 2543 vs White Real Elo: 2562\n",
      "Black Prediction: 2712 vs Black Real Elo: 2572\n",
      "White Prediction: 1519 vs White Real Elo: 2605\n",
      "Black Prediction: 1616 vs Black Real Elo: 2529\n",
      "White Prediction: 2587 vs White Real Elo: 2350\n",
      "Black Prediction: 2456 vs Black Real Elo: 2343\n",
      "White Prediction: 1295 vs White Real Elo: 977\n",
      "Black Prediction: 893 vs Black Real Elo: 910\n",
      "White Prediction: 1806 vs White Real Elo: 2256\n",
      "Black Prediction: 1812 vs Black Real Elo: 2290\n",
      "White Prediction: 1501 vs White Real Elo: 1702\n",
      "Black Prediction: 1265 vs Black Real Elo: 1723\n",
      "White Prediction: 1421 vs White Real Elo: 1164\n",
      "Black Prediction: 1728 vs Black Real Elo: 1300\n",
      "White Prediction: 1208 vs White Real Elo: 1193\n",
      "Black Prediction: 1417 vs Black Real Elo: 1201\n",
      "White Prediction: 2276 vs White Real Elo: 1773\n",
      "Black Prediction: 2309 vs Black Real Elo: 1835\n",
      "White Prediction: 2006 vs White Real Elo: 2224\n",
      "Black Prediction: 1813 vs Black Real Elo: 2173\n",
      "White Prediction: 1296 vs White Real Elo: 1243\n",
      "Black Prediction: 1122 vs Black Real Elo: 1270\n",
      "White Prediction: 1176 vs White Real Elo: 861\n",
      "Black Prediction: 1284 vs Black Real Elo: 862\n",
      "White Prediction: 2223 vs White Real Elo: 1089\n",
      "Black Prediction: 1868 vs Black Real Elo: 1081\n",
      "White Prediction: 2260 vs White Real Elo: 2310\n",
      "Black Prediction: 2398 vs Black Real Elo: 2305\n",
      "White Prediction: 2040 vs White Real Elo: 1449\n",
      "Black Prediction: 1880 vs Black Real Elo: 1458\n",
      "White Prediction: 1380 vs White Real Elo: 1879\n",
      "Black Prediction: 1786 vs Black Real Elo: 1800\n",
      "White Prediction: 1722 vs White Real Elo: 831\n",
      "Black Prediction: 1220 vs Black Real Elo: 815\n",
      "White Prediction: 2333 vs White Real Elo: 2662\n",
      "Black Prediction: 2258 vs Black Real Elo: 2504\n",
      "White Prediction: 1313 vs White Real Elo: 1254\n",
      "Black Prediction: 1446 vs Black Real Elo: 1207\n",
      "White Prediction: 1252 vs White Real Elo: 1028\n",
      "Black Prediction: 1258 vs Black Real Elo: 1009\n",
      "White Prediction: 1385 vs White Real Elo: 2184\n",
      "Black Prediction: 1497 vs Black Real Elo: 2129\n",
      "White Prediction: 2529 vs White Real Elo: 2279\n",
      "Black Prediction: 2081 vs Black Real Elo: 2263\n",
      "White Prediction: 1265 vs White Real Elo: 1514\n",
      "Black Prediction: 1723 vs Black Real Elo: 1515\n",
      "White Prediction: 1370 vs White Real Elo: 1466\n",
      "Black Prediction: 1290 vs Black Real Elo: 1458\n",
      "White Prediction: 1388 vs White Real Elo: 878\n",
      "Black Prediction: 1462 vs Black Real Elo: 851\n",
      "White Prediction: 1762 vs White Real Elo: 1680\n",
      "Black Prediction: 2344 vs Black Real Elo: 1694\n",
      "White Prediction: 1876 vs White Real Elo: 2316\n",
      "Black Prediction: 1967 vs Black Real Elo: 2310\n",
      "White Prediction: 1395 vs White Real Elo: 1573\n",
      "Black Prediction: 1232 vs Black Real Elo: 1520\n",
      "White Prediction: 1225 vs White Real Elo: 1207\n",
      "Black Prediction: 1243 vs Black Real Elo: 1265\n",
      "White Prediction: 1073 vs White Real Elo: 886\n",
      "Black Prediction: 1239 vs Black Real Elo: 845\n",
      "White Prediction: 1765 vs White Real Elo: 1998\n",
      "Black Prediction: 2385 vs Black Real Elo: 2047\n"
     ]
    }
   ],
   "source": [
    "for x, y in zip(x_test, y_test):\n",
    "    out = lstm_model.forward(x[0], train=False)[0] \n",
    "    print(f\"White Prediction: {int(out[0].item() * max_elo)} vs White Real Elo: {int(y[0].item() * max_elo)}\")\n",
    "    loss = loss_func(out, y[0].unsqueeze(0))\n",
    "\n",
    "    out = lstm_model.forward(x[1], train=False)[0]\n",
    "    print(f\"Black Prediction: {int(out[0].item() * max_elo)} vs Black Real Elo: {int(y[1].item() * max_elo)}\")\n",
    "    loss = loss_func(out, y[1].unsqueeze(0))"
   ]
  }
 ],
 "metadata": {
  "kernelspec": {
   "display_name": "Python 3",
   "language": "python",
   "name": "python3"
  },
  "language_info": {
   "codemirror_mode": {
    "name": "ipython",
    "version": 3
   },
   "file_extension": ".py",
   "mimetype": "text/x-python",
   "name": "python",
   "nbconvert_exporter": "python",
   "pygments_lexer": "ipython3",
   "version": "3.10.10"
  },
  "orig_nbformat": 4
 },
 "nbformat": 4,
 "nbformat_minor": 2
}
