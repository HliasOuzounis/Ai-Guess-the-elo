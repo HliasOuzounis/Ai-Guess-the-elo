{
 "cells": [
  {
   "cell_type": "code",
   "execution_count": 1,
   "metadata": {},
   "outputs": [],
   "source": [
    "import torch"
   ]
  },
  {
   "attachments": {},
   "cell_type": "markdown",
   "metadata": {},
   "source": [
    "### Load Analyzed Games"
   ]
  },
  {
   "cell_type": "code",
   "execution_count": 2,
   "metadata": {},
   "outputs": [],
   "source": [
    "# dataset = torch.load(\"datasets/dataset_all_games.pt\")\n",
    "dataset = torch.load(\"datasets/dataset_all_games_01.pt\")"
   ]
  },
  {
   "cell_type": "code",
   "execution_count": 3,
   "metadata": {},
   "outputs": [
    {
     "name": "stdout",
     "output_type": "stream",
     "text": [
      "2000\n",
      "14\n",
      "771\n"
     ]
    }
   ],
   "source": [
    "# dataset = [(white_analysis, black_analysis), (white_elo, black_elo)]\n",
    "print(len(dataset)) # num of games\n",
    "print(len(dataset[0][0][0])) # moves of first game (for white)\n",
    "print(len(dataset[0][0][0][0])) # input size of the model"
   ]
  },
  {
   "attachments": {},
   "cell_type": "markdown",
   "metadata": {},
   "source": [
    "### Modify the dataset for training"
   ]
  },
  {
   "cell_type": "code",
   "execution_count": 100,
   "metadata": {},
   "outputs": [],
   "source": [
    "import random\n",
    "\n",
    "total_games = len(dataset)\n",
    "max_elo = max([max(game[1]) for game in dataset])\n",
    "\n",
    "test_games = int(total_games * 0.15)\n",
    "\n",
    "random.shuffle(dataset)\n",
    "# print(torch.stack(dataset[0][0]))\n",
    "\n",
    "# (2000, 2, nof_moves, input_size)\n",
    "x_train = [torch.stack(game[0]) for game in dataset[:-test_games]]\n",
    "y_train = [torch.tensor(game[1]).float().reshape((2, 1))/max_elo for game in dataset[:-test_games]]\n",
    "\n",
    "x_test =  [torch.stack(game[0]) for game in dataset[-test_games:]]\n",
    "y_test =  [torch.tensor(game[1]).float().reshape((2, 1))/max_elo for game in dataset[-test_games:]]\n",
    "\n",
    "input_size = x_train[0].shape[2]"
   ]
  },
  {
   "attachments": {},
   "cell_type": "markdown",
   "metadata": {},
   "source": [
    "### Define the Model"
   ]
  },
  {
   "cell_type": "code",
   "execution_count": 5,
   "metadata": {},
   "outputs": [],
   "source": [
    "import torch\n",
    "from torch import nn, optim"
   ]
  },
  {
   "cell_type": "code",
   "execution_count": 6,
   "metadata": {},
   "outputs": [],
   "source": [
    "class LSTM(nn.Module):\n",
    "    def __init__(self, input_size, hidden_size, num_layers):\n",
    "        super(LSTM, self).__init__()\n",
    "        self.num_layers = num_layers\n",
    "        self.hidden_size = hidden_size\n",
    "        self.lstm = nn.LSTM(input_size, hidden_size, num_layers, batch_first=True)\n",
    "        self.fc = nn.Linear(hidden_size, 1)\n",
    "\n",
    "    def forward(self, X, h0=None, c0=None, train=True):\n",
    "        # If X is a single sample, add a batch dimension\n",
    "        if X.dim() == 2:\n",
    "            X = X.unsqueeze(0)\n",
    "            \n",
    "        if c0 is None:\n",
    "            c0 = torch.zeros(self.num_layers, X.size(0), self.hidden_size)\n",
    "        if h0 is None:\n",
    "            h0 = torch.zeros(self.num_layers, X.size(0), self.hidden_size)\n",
    "\n",
    "        out, (hn, cn) = self.lstm(X, (h0, c0))\n",
    "        \n",
    "        out = self.fc(out[:, -1, :])\n",
    "\n",
    "        return out, (hn, cn)"
   ]
  },
  {
   "cell_type": "code",
   "execution_count": 64,
   "metadata": {},
   "outputs": [],
   "source": [
    "def initialize_model(input_size, hidden_size, num_layers):\n",
    "    lstm_model = LSTM(input_size, hidden_size, num_layers)\n",
    "\n",
    "    learning_rate = 0.01\n",
    "    optimizer = optim.Adam(lstm_model.parameters(), lr=learning_rate)\n",
    "\n",
    "    loss_func = nn.functional.mse_loss\n",
    "\n",
    "    return lstm_model, optimizer, loss_func\n",
    "\n",
    "lstm_model, optimizer, loss_func = initialize_model(input_size, 128, 2)"
   ]
  },
  {
   "attachments": {},
   "cell_type": "markdown",
   "metadata": {},
   "source": [
    "### Train the model"
   ]
  },
  {
   "cell_type": "code",
   "execution_count": 8,
   "metadata": {},
   "outputs": [],
   "source": [
    "def train_model(model, optimizer, loss_func, train_data, num_epochs):\n",
    "\n",
    "    # train_data = [X_train, y_train]\n",
    "    x_train, y_train = train_data\n",
    "    # x_train.shape = (batch_size, num_moves, input_size)\n",
    "    # y_train.shape = (batch_size, 1)\n",
    "\n",
    "    total_games = len(x_train)\n",
    "    validation_games = int(total_games * 0.15)\n",
    "\n",
    "    x_val = x_train[-validation_games:]\n",
    "    y_val = y_train[-validation_games:]\n",
    "\n",
    "    x_train = x_train[:-validation_games]\n",
    "    y_train = y_train[:-validation_games]\n",
    "\n",
    "    batch_size = len(x_train[0])\n",
    "\n",
    "    loss_per_epoch = []\n",
    "    \n",
    "    \n",
    "\n",
    "    for epoch in range(num_epochs):\n",
    "        for batch, (x_game, y_game) in enumerate(zip(x_train, y_train)):\n",
    "\n",
    "            cell_states = torch.zeros(model.num_layers, batch_size, model.hidden_size)\n",
    "            hidden_states = torch.zeros(model.num_layers, batch_size, model.hidden_size)\n",
    "\n",
    "            # BATCH GAMES TOGETHER BASED ON NUMBER OF MOVES\n",
    "            # Will maybe change to transformers later\n",
    "\n",
    "            elo_guess, (_hidden_states, _cell_states) = model(\n",
    "                x_game, hidden_states, cell_states\n",
    "            )\n",
    "\n",
    "            loss = loss_func(elo_guess, y_game)\n",
    "\n",
    "            optimizer.zero_grad()\n",
    "            loss.backward()\n",
    "\n",
    "            optimizer.step()\n",
    "\n",
    "        cell_states = torch.zeros(model.num_layers, batch_size, model.hidden_size)\n",
    "        hidden_states = torch.zeros(model.num_layers, batch_size, model.hidden_size)\n",
    "        loss_sum = sum(\n",
    "            loss_func(model(x_val[i], cell_states, hidden_states)[0], y_val[i]).item()\n",
    "            for i in range(validation_games)\n",
    "        )\n",
    "\n",
    "        print(f\"Epoch: {epoch + 1}, Validation Loss: {loss_sum/validation_games}\")\n",
    "\n",
    "        loss_per_epoch.append(loss_sum / (validation_games + 1))\n",
    "\n",
    "    return loss_per_epoch\n"
   ]
  },
  {
   "cell_type": "code",
   "execution_count": 66,
   "metadata": {},
   "outputs": [
    {
     "name": "stdout",
     "output_type": "stream",
     "text": [
      "Epoch: 1, Validation Loss: 0.033077630288629305\n",
      "Epoch: 2, Validation Loss: 0.04348376151705024\n",
      "Epoch: 3, Validation Loss: 0.028728415144752373\n",
      "Epoch: 4, Validation Loss: 0.024474865439661504\n",
      "Epoch: 5, Validation Loss: 0.028992954324120565\n",
      "Epoch: 6, Validation Loss: 0.029898785137572537\n",
      "Epoch: 7, Validation Loss: 0.02974089777258889\n",
      "Epoch: 8, Validation Loss: 0.028797994814486434\n",
      "Epoch: 9, Validation Loss: 0.02394473039693206\n",
      "Epoch: 10, Validation Loss: 0.03166599001520523\n"
     ]
    }
   ],
   "source": [
    "loss_graph = train_model(lstm_model, optimizer, loss_func, (x_train, y_train), num_epochs=10)"
   ]
  },
  {
   "cell_type": "code",
   "execution_count": 67,
   "metadata": {},
   "outputs": [
    {
     "data": {
      "text/plain": [
       "[<matplotlib.lines.Line2D at 0x7fa6ea4518a0>]"
      ]
     },
     "execution_count": 67,
     "metadata": {},
     "output_type": "execute_result"
    },
    {
     "data": {
      "image/png": "[encoded data removed]",
      "text/plain": [
       "<Figure size 640x480 with 1 Axes>"
      ]
     },
     "metadata": {},
     "output_type": "display_data"
    }
   ],
   "source": [
    "import matplotlib.pyplot as plt\n",
    "plt.plot(loss_graph)"
   ]
  },
  {
   "cell_type": "code",
   "execution_count": null,
   "metadata": {},
   "outputs": [],
   "source": [
    "lstm_model."
   ]
  },
  {
   "cell_type": "code",
   "execution_count": 101,
   "metadata": {},
   "outputs": [],
   "source": [
    "predictions = []\n",
    "real_values = []\n",
    "\n",
    "for x, y in zip(x_test, y_test):\n",
    "    out = lstm_model.forward(x[0], train=False)[0] \n",
    "    # print(f\"White Prediction: {int(out[0].item() * max_elo)} vs White Real Elo: {int(y[0].item() * max_elo)}\")\n",
    "    predictions.append(out[0].item() * max_elo)\n",
    "    real_values.append(y[0].item() * max_elo)\n",
    "\n",
    "    out = lstm_model.forward(x[1], train=False)[0]\n",
    "    # print(f\"Black Prediction: {int(out[0].item() * max_elo)} vs Black Real Elo: {int(y[1].item() * max_elo)}\")\n",
    "    predictions.append(out[0].item() * max_elo)\n",
    "    real_values.append(y[1].item() * max_elo)"
   ]
  },
  {
   "cell_type": "code",
   "execution_count": 103,
   "metadata": {},
   "outputs": [
    {
     "name": "stdout",
     "output_type": "stream",
     "text": [
      "Correctly predicted 36.00% of games\n",
      "216 out of 600 predictions\n"
     ]
    }
   ],
   "source": [
    "def rate_predictions(predictions, real_values):\n",
    "    correct = 0\n",
    "    leeway = 200\n",
    "    for prediction, real in zip(predictions, real_values):\n",
    "        if real - leeway <= prediction <= real + leeway:\n",
    "            correct += 1\n",
    "    return correct / len(predictions)\n",
    "\n",
    "percentage = rate_predictions(predictions, real_values)\n",
    "print(f\"Correctly predicted {percentage * 100:.2f}% of games\")\n",
    "print(f\"{int(len(predictions) * percentage)} out of {len(predictions)} predictions\")"
   ]
  },
  {
   "cell_type": "code",
   "execution_count": 94,
   "metadata": {},
   "outputs": [
    {
     "name": "stdout",
     "output_type": "stream",
     "text": [
      "Correctly guessed at random 17.33% of games\n",
      "104 out of 600 predictions\n"
     ]
    }
   ],
   "source": [
    "import random\n",
    "\n",
    "random_predictions = [random.randint(800, 3000) for _ in range(len(predictions))]\n",
    "percentage = rate_predictions(random_predictions, real_values)\n",
    "print(f\"Correctly guessed at random {percentage * 100:.2f}% of games\")\n",
    "print(f\"{int(len(random_predictions) * percentage)} out of {len(random_predictions)} predictions\")   "
   ]
  },
  {
   "cell_type": "code",
   "execution_count": 81,
   "metadata": {},
   "outputs": [
    {
     "name": "stdout",
     "output_type": "stream",
     "text": [
      "Correctly guessed at random 21.50% of games\n",
      "129 out of 600 predictions\n"
     ]
    }
   ],
   "source": [
    "constant_predictions = [(800 + 2800)//2 for _ in range(len(predictions))]\n",
    "percentage = rate_predictions(constant_predictions, real_values)\n",
    "print(f\"Correctly guessed at random {percentage * 100:.2f}% of games\")\n",
    "print(f\"{int(len(constant_predictions) * percentage)} out of {len(constant_predictions)} predictions\")   "
   ]
  }
 ],
 "metadata": {
  "kernelspec": {
   "display_name": "Python 3",
   "language": "python",
   "name": "python3"
  },
  "language_info": {
   "codemirror_mode": {
    "name": "ipython",
    "version": 3
   },
   "file_extension": ".py",
   "mimetype": "text/x-python",
   "name": "python",
   "nbconvert_exporter": "python",
   "pygments_lexer": "ipython3",
   "version": "3.10.10"
  },
  "orig_nbformat": 4
 },
 "nbformat": 4,
 "nbformat_minor": 2
}
