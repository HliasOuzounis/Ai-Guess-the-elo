{
 "cells": [
  {
   "cell_type": "code",
   "execution_count": 47,
   "metadata": {},
   "outputs": [],
   "source": [
    "import torch"
   ]
  },
  {
   "cell_type": "markdown",
   "metadata": {},
   "source": [
    "### Load Analyzed Games"
   ]
  },
  {
   "cell_type": "code",
   "execution_count": 48,
   "metadata": {},
   "outputs": [],
   "source": [
    "# dataset = torch.load(\"datasets/dataset_2_games_10_moves.pt\")\n",
    "dataset = torch.load(\"datasets/dataset_all_games_01.pt\")"
   ]
  },
  {
   "cell_type": "code",
   "execution_count": 49,
   "metadata": {},
   "outputs": [
    {
     "name": "stdout",
     "output_type": "stream",
     "text": [
      "2000\n",
      "14\n",
      "771\n"
     ]
    }
   ],
   "source": [
    "# dataset = [(white_analysis, black_analysis), (white_elo, black_elo)]\n",
    "print(len(dataset)) # num of games\n",
    "print(len(dataset[0][0][0])) # moves of first game (for white)\n",
    "print(len(dataset[0][0][0][0])) # input size of the model"
   ]
  },
  {
   "cell_type": "markdown",
   "metadata": {},
   "source": [
    "### Modify the dataset for training"
   ]
  },
  {
   "cell_type": "code",
   "execution_count": 50,
   "metadata": {},
   "outputs": [],
   "source": [
    "rating_ranges = [\n",
    "    (400, 900),\n",
    "    (900, 1100),\n",
    "    (1100, 1300),\n",
    "    (1300, 1500),\n",
    "    (1500, 1700),\n",
    "    (1700, 1900),\n",
    "    (1900, 2100),\n",
    "    (2100, 2300),\n",
    "    (2300, 2500),\n",
    "    (2500, 3000),\n",
    "]\n",
    "\n",
    "def calculate_elo_range(elo):\n",
    "    import scipy.stats as st\n",
    "\n",
    "    stdv = 100\n",
    "    return torch.tensor([\n",
    "            st.norm.cdf(r[1], loc=elo, scale=stdv)\n",
    "            - st.norm.cdf(r[0], loc=elo, scale=stdv)\n",
    "            for r in rating_ranges\n",
    "        ])\n",
    "\n",
    "\n",
    "def guess_elo_range(elo_range):\n",
    "    s = 0\n",
    "    for r, probability in zip(rating_ranges, elo_range):\n",
    "        s += probability * (r[0] + r[1]) / 2\n",
    "\n",
    "    return int(s / sum(elo_range))"
   ]
  },
  {
   "cell_type": "code",
   "execution_count": 51,
   "metadata": {},
   "outputs": [],
   "source": [
    "import random\n",
    "\n",
    "total_games = len(dataset)\n",
    "input_size = len(dataset[0][0][0][0])\n",
    "classes = len(rating_ranges)\n",
    "\n",
    "test_games = int(total_games * 0.15)\n",
    "\n",
    "random.shuffle(dataset)\n",
    "\n",
    "x_train = [torch.stack(game[0]) for game in dataset[:-test_games]]\n",
    "y_train = [torch.stack([calculate_elo_range(side) for side in game[1]]) for game in dataset[:-test_games]]\n",
    "x_test  = [torch.stack(game[0]) for game in dataset[-test_games:]]\n",
    "y_test  = [torch.stack([calculate_elo_range(side) for side in game[1]]) for game in dataset[-test_games:]]"
   ]
  },
  {
   "cell_type": "markdown",
   "metadata": {},
   "source": [
    "### Define the Model"
   ]
  },
  {
   "cell_type": "code",
   "execution_count": 52,
   "metadata": {},
   "outputs": [],
   "source": [
    "import torch\n",
    "from torch import nn, optim"
   ]
  },
  {
   "cell_type": "code",
   "execution_count": 53,
   "metadata": {},
   "outputs": [],
   "source": [
    "class LSTM(nn.Module):\n",
    "    def __init__(self, input_size, hidden_size, num_layers, num_classes):\n",
    "        super(LSTM, self).__init__()\n",
    "        self.num_layers = num_layers\n",
    "        self.hidden_size = hidden_size\n",
    "        self.lstm = nn.LSTM(input_size, hidden_size, num_layers, batch_first=True)\n",
    "        self.fc = nn.Linear(hidden_size, num_classes)\n",
    "        self.softmax = nn.Softmax(dim=1)\n",
    "\n",
    "    def forward(self, X, h0=None, c0=None, train=True):\n",
    "        # If X is a single sample, add a batch dimension\n",
    "        if X.dim() == 2:\n",
    "            X = X.unsqueeze(0)\n",
    "            \n",
    "        if c0 is None:\n",
    "            c0 = torch.zeros(self.num_layers, X.size(0), self.hidden_size)\n",
    "        if h0 is None:\n",
    "            h0 = torch.zeros(self.num_layers, X.size(0), self.hidden_size)\n",
    "\n",
    "        out, (hn, cn) = self.lstm(X, (h0, c0))\n",
    "        \n",
    "        out = self.fc(out[:, -1, :])\n",
    "        # CrossEntropyLoss applies the softmax function itself\n",
    "        # Only apply softmax to get predictions, not training\n",
    "        if not train:\n",
    "            out = self.softmax(out)\n",
    "\n",
    "        return out, (hn, cn)"
   ]
  },
  {
   "cell_type": "code",
   "execution_count": 54,
   "metadata": {},
   "outputs": [],
   "source": [
    "def initialize_model(input_size, hidden_size, num_layers, num_classes):\n",
    "    lstm_model = LSTM(input_size, hidden_size, num_layers, num_classes)\n",
    "\n",
    "    learning_rate = 0.01\n",
    "    optimizer = optim.Adam(lstm_model.parameters(), lr=learning_rate)\n",
    "\n",
    "    loss_func = nn.CrossEntropyLoss()\n",
    "\n",
    "    return lstm_model, optimizer, loss_func\n",
    "\n",
    "lstm_model, optimizer, loss_func = initialize_model(input_size, 128, 2, classes)"
   ]
  },
  {
   "cell_type": "markdown",
   "metadata": {},
   "source": [
    "### Train the model"
   ]
  },
  {
   "cell_type": "code",
   "execution_count": 55,
   "metadata": {},
   "outputs": [],
   "source": [
    "def train_model(model, optimizer, loss_func, train_data, num_epochs):\n",
    "\n",
    "    # train_data = [X_train, y_train]\n",
    "    x_train, y_train = train_data\n",
    "    # x_train.shape = (batch_size, num_moves, input_size)\n",
    "    # y_train.shape = (batch_size, 1)\n",
    "\n",
    "    total_games = len(x_train)\n",
    "    validation_games = int(total_games * 0.1)\n",
    "\n",
    "    x_val = x_train[-validation_games:]\n",
    "    y_val = y_train[-validation_games:]\n",
    "\n",
    "    x_train = x_train[:-validation_games]\n",
    "    y_train = y_train[:-validation_games]\n",
    "\n",
    "    batch_size = len(x_train[0])\n",
    "    \n",
    "    loss_per_epoch = []\n",
    "\n",
    "    for epoch in range(num_epochs):\n",
    "        for batch, (x_game, y_game) in enumerate(zip(x_train, y_train)):\n",
    "\n",
    "            cell_states = torch.zeros(model.num_layers, batch_size, model.hidden_size)\n",
    "            hidden_states = torch.zeros(model.num_layers, batch_size, model.hidden_size)\n",
    "\n",
    "            # BATCH GAMES TOGETHER BASED ON NUMBER OF MOVES\n",
    "            # Will maybe change to transformers later\n",
    "\n",
    "            propabilities, (_hidden_states, _cell_states) = model(\n",
    "                x_game, hidden_states, cell_states\n",
    "            )\n",
    "\n",
    "            loss = loss_func(propabilities, y_game)\n",
    "\n",
    "            optimizer.zero_grad()\n",
    "            loss.backward()\n",
    "\n",
    "            optimizer.step()\n",
    "\n",
    "        cell_states = torch.zeros(model.num_layers, batch_size, model.hidden_size)\n",
    "        hidden_states = torch.zeros(model.num_layers, batch_size, model.hidden_size)\n",
    "        loss_sum = sum(\n",
    "            loss_func(model(x_val[i], cell_states, hidden_states)[0], y_val[i]).item()\n",
    "            for i in range(validation_games)\n",
    "        )\n",
    "\n",
    "        print(f\"Epoch: {epoch + 1}, Validation Loss: {loss_sum/validation_games}\")\n",
    "\n",
    "        loss_per_epoch.append(loss_sum / validation_games)\n",
    "\n",
    "    return loss_per_epoch"
   ]
  },
  {
   "cell_type": "code",
   "execution_count": 56,
   "metadata": {},
   "outputs": [
    {
     "name": "stdout",
     "output_type": "stream",
     "text": [
      "Epoch: 1, Validation Loss: 2.3241593986435762\n",
      "Epoch: 2, Validation Loss: 2.2969372050290757\n",
      "Epoch: 3, Validation Loss: 2.165694995572999\n",
      "Epoch: 4, Validation Loss: 2.099192770203831\n",
      "Epoch: 5, Validation Loss: 2.1296160547151612\n"
     ]
    }
   ],
   "source": [
    "loss_graph = train_model(lstm_model, optimizer, loss_func, (x_train, y_train), num_epochs=5)"
   ]
  },
  {
   "cell_type": "code",
   "execution_count": 57,
   "metadata": {},
   "outputs": [
    {
     "data": {
      "text/plain": [
       "[<matplotlib.lines.Line2D at 0x7efc408c2b30>]"
      ]
     },
     "execution_count": 57,
     "metadata": {},
     "output_type": "execute_result"
    },
    {
     "data": {
      "image/png": "[encoded data removed]",
      "text/plain": [
       "<Figure size 640x480 with 1 Axes>"
      ]
     },
     "metadata": {},
     "output_type": "display_data"
    }
   ],
   "source": [
    "import matplotlib.pyplot as plt\n",
    "plt.plot(loss_graph)"
   ]
  },
  {
   "cell_type": "code",
   "execution_count": 58,
   "metadata": {},
   "outputs": [
    {
     "name": "stdout",
     "output_type": "stream",
     "text": [
      "Average Loss: 2.2669008100494117\n",
      "Correct range guesses: 88 / 600 = (0.15)\n"
     ]
    }
   ],
   "source": [
    "total_loss = 0\n",
    "\n",
    "predictions = []\n",
    "real_values = []\n",
    "c = 0\n",
    "\n",
    "for x, y in zip(x_test, y_test):\n",
    "    out = lstm_model.forward(x[0], train=False)[0]\n",
    "    loss = loss_func(out, y[0].unsqueeze(0))\n",
    "    total_loss += loss.item()\n",
    "    \n",
    "    predictions.append(guess_elo_range(out[0]))\n",
    "    real_values.append(guess_elo_range(y[0]))\n",
    "    if (out[0].argmax() == y[0].argmax()):\n",
    "        c += 1\n",
    "\n",
    "    out = lstm_model.forward(x[1], train=False)[0]\n",
    "    loss = loss_func(out, y[1].unsqueeze(0))\n",
    "    total_loss += loss.item()\n",
    "    \n",
    "    predictions.append(guess_elo_range(out[0]))\n",
    "    real_values.append(guess_elo_range(y[1]))\n",
    "\n",
    "    if out[0].argmax() == y[1].argmax():\n",
    "        c += 1\n",
    "    \n",
    "print(f\"Average Loss: {total_loss / (len(x_test) * 2)}\")\n",
    "print(f\"Correct range guesses: {c} / {len(x_test) * 2} = ({c / (len(x_test) * 2):.2f})\")"
   ]
  },
  {
   "cell_type": "code",
   "execution_count": 63,
   "metadata": {},
   "outputs": [
    {
     "name": "stdout",
     "output_type": "stream",
     "text": [
      "Correctly predicted 31.17% of games\n",
      "187 out of 600 predictions\n"
     ]
    }
   ],
   "source": [
    "\n",
    "def rate_predictions(predictions, real_values):\n",
    "    correct = 0\n",
    "    leeway = 200\n",
    "    for prediction, real in zip(predictions, real_values):\n",
    "        if real - leeway <= prediction <= real + leeway:\n",
    "            correct += 1\n",
    "    return correct / len(predictions)\n",
    "\n",
    "percentage = rate_predictions(predictions, real_values)\n",
    "print(f\"Correctly predicted {percentage * 100:.2f}% of games\")\n",
    "print(f\"{int(len(predictions) * percentage)} out of {len(predictions)} predictions\")"
   ]
  }
 ],
 "metadata": {
  "kernelspec": {
   "display_name": "Python 3",
   "language": "python",
   "name": "python3"
  },
  "language_info": {
   "codemirror_mode": {
    "name": "ipython",
    "version": 3
   },
   "file_extension": ".py",
   "mimetype": "text/x-python",
   "name": "python",
   "nbconvert_exporter": "python",
   "pygments_lexer": "ipython3",
   "version": "3.10.10"
  },
  "orig_nbformat": 4
 },
 "nbformat": 4,
 "nbformat_minor": 2
}
