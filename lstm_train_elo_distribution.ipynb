{
 "cells": [
  {
   "cell_type": "code",
   "execution_count": 47,
   "metadata": {},
   "outputs": [],
   "source": [
    "import torch"
   ]
  },
  {
   "cell_type": "markdown",
   "metadata": {},
   "source": [
    "### Load Analyzed Games"
   ]
  },
  {
   "cell_type": "code",
   "execution_count": 48,
   "metadata": {},
   "outputs": [],
   "source": [
    "dataset = torch.load(\"datasets/dataset_all_games.pt\")"
   ]
  },
  {
   "cell_type": "code",
   "execution_count": 49,
   "metadata": {},
   "outputs": [
    {
     "name": "stdout",
     "output_type": "stream",
     "text": [
      "500\n",
      "14\n",
      "771\n"
     ]
    }
   ],
   "source": [
    "# dataset = [(white_analysis, black_analysis), (white_elo, black_elo)]\n",
    "print(len(dataset)) # num of games\n",
    "print(len(dataset[0][0][0])) # moves of first game (for white)\n",
    "print(len(dataset[0][0][0][0])) # input size of the model"
   ]
  },
  {
   "cell_type": "markdown",
   "metadata": {},
   "source": [
    "### Modify the dataset for training"
   ]
  },
  {
   "cell_type": "code",
   "execution_count": 50,
   "metadata": {},
   "outputs": [],
   "source": [
    "rating_ranges = [\n",
    "    (400, 900),\n",
    "    (900, 1100),\n",
    "    (1100, 1300),\n",
    "    (1300, 1500),\n",
    "    (1500, 1700),\n",
    "    (1700, 1900),\n",
    "    (1900, 2100),\n",
    "    (2100, 2300),\n",
    "    (2300, 2500),\n",
    "    (2500, 3000),\n",
    "]\n",
    "\n",
    "def calculate_elo_range(elo):\n",
    "    import scipy.stats as st\n",
    "\n",
    "    stdv = 100\n",
    "    return torch.tensor([\n",
    "            st.norm.cdf(r[1], loc=elo, scale=stdv)\n",
    "            - st.norm.cdf(r[0], loc=elo, scale=stdv)\n",
    "            for r in rating_ranges\n",
    "        ])\n",
    "\n",
    "\n",
    "def guess_elo_range(elo_range):\n",
    "    s = 0\n",
    "    for r, probability in zip(rating_ranges, elo_range):\n",
    "        s += probability * (r[0] + r[1]) / 2\n",
    "\n",
    "    return int(s / sum(elo_range))"
   ]
  },
  {
   "cell_type": "code",
   "execution_count": 51,
   "metadata": {},
   "outputs": [],
   "source": [
    "import random\n",
    "\n",
    "total_games = len(dataset)\n",
    "input_size = len(dataset[0][0][0][0])\n",
    "classes = len(rating_ranges)\n",
    "\n",
    "test_games = int(total_games * 0.15)\n",
    "\n",
    "random.shuffle(dataset)\n",
    "\n",
    "x_train = [torch.stack(game[0]) for game in dataset[:-test_games]]\n",
    "y_train = [torch.stack([calculate_elo_range(side) for side in game[1]]) for game in dataset[:-test_games]]\n",
    "x_test  = [torch.stack(game[0]) for game in dataset[-test_games:]]\n",
    "y_test  = [torch.stack([calculate_elo_range(side) for side in game[1]]) for game in dataset[-test_games:]]"
   ]
  },
  {
   "cell_type": "markdown",
   "metadata": {},
   "source": [
    "### Define the Model"
   ]
  },
  {
   "cell_type": "code",
   "execution_count": 52,
   "metadata": {},
   "outputs": [],
   "source": [
    "import torch\n",
    "from torch import nn, optim"
   ]
  },
  {
   "cell_type": "code",
   "execution_count": 53,
   "metadata": {},
   "outputs": [],
   "source": [
    "class LSTM(nn.Module):\n",
    "    def __init__(self, input_size, hidden_size, num_layers, num_classes):\n",
    "        super(LSTM, self).__init__()\n",
    "        self.num_layers = num_layers\n",
    "        self.hidden_size = hidden_size\n",
    "        self.lstm = nn.LSTM(input_size, hidden_size, num_layers, batch_first=True)\n",
    "        self.fc = nn.Linear(hidden_size, num_classes)\n",
    "        self.softmax = nn.Softmax(dim=1)\n",
    "\n",
    "    def forward(self, X, h0=None, c0=None, train=True):\n",
    "        # If X is a single sample, add a batch dimension\n",
    "        if X.dim() == 2:\n",
    "            X = X.unsqueeze(0)\n",
    "            \n",
    "        if c0 is None:\n",
    "            c0 = torch.zeros(self.num_layers, X.size(0), self.hidden_size)\n",
    "        if h0 is None:\n",
    "            h0 = torch.zeros(self.num_layers, X.size(0), self.hidden_size)\n",
    "\n",
    "        out, (hn, cn) = self.lstm(X, (h0, c0))\n",
    "        \n",
    "        out = self.fc(out[:, -1, :])\n",
    "        # CrossEntropyLoss applies the softmax function itself\n",
    "        # Only apply softmax to get predictions, not training\n",
    "        if not train:\n",
    "            out = self.softmax(out)\n",
    "\n",
    "        return out, (hn, cn)"
   ]
  },
  {
   "cell_type": "code",
   "execution_count": 54,
   "metadata": {},
   "outputs": [],
   "source": [
    "def initialize_model(input_size, hidden_size, num_layers, num_classes):\n",
    "    lstm_model = LSTM(input_size, hidden_size, num_layers, num_classes)\n",
    "\n",
    "    learning_rate = 0.01\n",
    "    optimizer = optim.Adam(lstm_model.parameters(), lr=learning_rate)\n",
    "\n",
    "    loss_func = nn.CrossEntropyLoss()\n",
    "\n",
    "    return lstm_model, optimizer, loss_func\n",
    "\n",
    "lstm_model, optimizer, loss_func = initialize_model(input_size, 64, 2, classes)"
   ]
  },
  {
   "cell_type": "markdown",
   "metadata": {},
   "source": [
    "### Train the model"
   ]
  },
  {
   "cell_type": "code",
   "execution_count": 55,
   "metadata": {},
   "outputs": [],
   "source": [
    "def train_model(model, optimizer, loss_func, train_data, num_epochs):\n",
    "\n",
    "    # train_data = [X_train, y_train]\n",
    "    x_train, y_train = train_data\n",
    "    # x_train.shape = (batch_size, num_moves, input_size)\n",
    "    # y_train.shape = (batch_size, 1)\n",
    "\n",
    "    total_games = len(x_train)\n",
    "    validation_games = int(total_games * 0.15)\n",
    "\n",
    "    x_val = x_train[-validation_games:]\n",
    "    y_val = y_train[-validation_games:]\n",
    "\n",
    "    x_train = x_train[:-validation_games]\n",
    "    y_train = y_train[:-validation_games]\n",
    "\n",
    "    batch_size = len(x_train[0])\n",
    "    \n",
    "    loss_per_epoch = []\n",
    "\n",
    "    for epoch in range(num_epochs):\n",
    "        for batch, (x_game, y_game) in enumerate(zip(x_train, y_train)):\n",
    "\n",
    "            cell_states = torch.zeros(model.num_layers, batch_size, model.hidden_size)\n",
    "            hidden_states = torch.zeros(model.num_layers, batch_size, model.hidden_size)\n",
    "\n",
    "            # BATCH GAMES TOGETHER BASED ON NUMBER OF MOVES\n",
    "            # Will maybe change to transformers later\n",
    "\n",
    "            propabilities, (_hidden_states, _cell_states) = model(\n",
    "                x_game, hidden_states, cell_states\n",
    "            )\n",
    "\n",
    "            loss = loss_func(propabilities, y_game)\n",
    "\n",
    "            optimizer.zero_grad()\n",
    "            loss.backward()\n",
    "\n",
    "            optimizer.step()\n",
    "\n",
    "        cell_states = torch.zeros(model.num_layers, batch_size, model.hidden_size)\n",
    "        hidden_states = torch.zeros(model.num_layers, batch_size, model.hidden_size)\n",
    "        loss_sum = sum(\n",
    "            loss_func(model(x_val[i], cell_states, hidden_states)[0], y_val[i]).item()\n",
    "            for i in range(validation_games)\n",
    "        )\n",
    "\n",
    "        print(f\"Epoch: {epoch + 1}, Validation Loss: {loss_sum/validation_games}\")\n",
    "\n",
    "        loss_per_epoch.append(loss_sum / validation_games)\n",
    "\n",
    "    return loss_per_epoch"
   ]
  },
  {
   "cell_type": "code",
   "execution_count": 58,
   "metadata": {},
   "outputs": [
    {
     "name": "stdout",
     "output_type": "stream",
     "text": [
      "Epoch: 1, Validation Loss: 2.1907539767330726\n",
      "Epoch: 2, Validation Loss: 2.2280054264011646\n",
      "Epoch: 3, Validation Loss: 2.1977866641099144\n",
      "Epoch: 4, Validation Loss: 2.1869754349289368\n",
      "Epoch: 5, Validation Loss: 2.2758987901557117\n",
      "Epoch: 6, Validation Loss: 2.1840713022069336\n",
      "Epoch: 7, Validation Loss: 2.229748522905614\n",
      "Epoch: 8, Validation Loss: 2.2389979731941247\n",
      "Epoch: 9, Validation Loss: 2.169130514765343\n",
      "Epoch: 10, Validation Loss: 2.147867716831216\n"
     ]
    }
   ],
   "source": [
    "loss_graph = train_model(lstm_model, optimizer, loss_func, (x_train, y_train), num_epochs=10)"
   ]
  },
  {
   "cell_type": "code",
   "execution_count": 59,
   "metadata": {},
   "outputs": [
    {
     "data": {
      "text/plain": [
       "[<matplotlib.lines.Line2D at 0x7f9d164c9900>]"
      ]
     },
     "execution_count": 59,
     "metadata": {},
     "output_type": "execute_result"
    },
    {
     "data": {
      "image/png": "[encoded data removed]",
      "text/plain": [
       "<Figure size 640x480 with 1 Axes>"
      ]
     },
     "metadata": {},
     "output_type": "display_data"
    }
   ],
   "source": [
    "import matplotlib.pyplot as plt\n",
    "plt.plot(loss_graph)"
   ]
  },
  {
   "cell_type": "code",
   "execution_count": 60,
   "metadata": {},
   "outputs": [
    {
     "name": "stdout",
     "output_type": "stream",
     "text": [
      "White Prediction: 1422 vs White Real Elo: 1535\n",
      "Black Prediction: 1277 vs Black Real Elo: 1520\n",
      "White Prediction: 1357 vs White Real Elo: 1921\n",
      "Black Prediction: 1450 vs Black Real Elo: 1950\n",
      "White Prediction: 1286 vs White Real Elo: 988\n",
      "Black Prediction: 1318 vs Black Real Elo: 906\n",
      "White Prediction: 2112 vs White Real Elo: 2693\n",
      "Black Prediction: 2323 vs Black Real Elo: 2622\n",
      "White Prediction: 1366 vs White Real Elo: 1402\n",
      "Black Prediction: 1197 vs Black Real Elo: 1422\n",
      "White Prediction: 2125 vs White Real Elo: 1459\n",
      "Black Prediction: 2042 vs Black Real Elo: 1434\n",
      "White Prediction: 1969 vs White Real Elo: 1628\n",
      "Black Prediction: 1991 vs Black Real Elo: 1553\n",
      "White Prediction: 1399 vs White Real Elo: 1203\n",
      "Black Prediction: 1299 vs Black Real Elo: 1223\n",
      "White Prediction: 1631 vs White Real Elo: 1253\n",
      "Black Prediction: 2287 vs Black Real Elo: 1207\n",
      "White Prediction: 1390 vs White Real Elo: 1655\n",
      "Black Prediction: 1191 vs Black Real Elo: 1681\n",
      "White Prediction: 1661 vs White Real Elo: 1964\n",
      "Black Prediction: 2160 vs Black Real Elo: 2024\n",
      "White Prediction: 1943 vs White Real Elo: 1569\n",
      "Black Prediction: 2215 vs Black Real Elo: 1553\n",
      "White Prediction: 1239 vs White Real Elo: 1083\n",
      "Black Prediction: 1185 vs Black Real Elo: 1061\n",
      "White Prediction: 1461 vs White Real Elo: 1556\n",
      "Black Prediction: 1578 vs Black Real Elo: 1538\n",
      "White Prediction: 1221 vs White Real Elo: 819\n",
      "Black Prediction: 857 vs Black Real Elo: 804\n",
      "White Prediction: 1399 vs White Real Elo: 1452\n",
      "Black Prediction: 1401 vs Black Real Elo: 1467\n",
      "White Prediction: 1203 vs White Real Elo: 1408\n",
      "Black Prediction: 1378 vs Black Real Elo: 1341\n",
      "White Prediction: 1349 vs White Real Elo: 817\n",
      "Black Prediction: 1154 vs Black Real Elo: 756\n",
      "White Prediction: 2329 vs White Real Elo: 2225\n",
      "Black Prediction: 2033 vs Black Real Elo: 2174\n",
      "White Prediction: 2173 vs White Real Elo: 1977\n",
      "Black Prediction: 2397 vs Black Real Elo: 2047\n",
      "White Prediction: 2201 vs White Real Elo: 2263\n",
      "Black Prediction: 2347 vs Black Real Elo: 2199\n",
      "White Prediction: 1926 vs White Real Elo: 960\n",
      "Black Prediction: 2319 vs Black Real Elo: 1049\n",
      "White Prediction: 2527 vs White Real Elo: 2204\n",
      "Black Prediction: 2285 vs Black Real Elo: 2170\n",
      "White Prediction: 1465 vs White Real Elo: 1628\n",
      "Black Prediction: 1500 vs Black Real Elo: 1616\n",
      "White Prediction: 1455 vs White Real Elo: 1245\n",
      "Black Prediction: 1301 vs Black Real Elo: 1229\n",
      "White Prediction: 1258 vs White Real Elo: 1148\n",
      "Black Prediction: 1304 vs Black Real Elo: 1141\n",
      "White Prediction: 2131 vs White Real Elo: 2463\n",
      "Black Prediction: 2216 vs Black Real Elo: 2303\n",
      "White Prediction: 1706 vs White Real Elo: 1982\n",
      "Black Prediction: 2452 vs Black Real Elo: 1963\n",
      "White Prediction: 1914 vs White Real Elo: 715\n",
      "Black Prediction: 1945 vs Black Real Elo: 741\n",
      "White Prediction: 1270 vs White Real Elo: 2231\n",
      "Black Prediction: 1318 vs Black Real Elo: 2161\n",
      "White Prediction: 1338 vs White Real Elo: 1242\n",
      "Black Prediction: 1530 vs Black Real Elo: 1269\n",
      "White Prediction: 1165 vs White Real Elo: 1197\n",
      "Black Prediction: 1363 vs Black Real Elo: 1206\n",
      "White Prediction: 1881 vs White Real Elo: 2730\n",
      "Black Prediction: 2303 vs Black Real Elo: 2721\n",
      "White Prediction: 1408 vs White Real Elo: 797\n",
      "Black Prediction: 1554 vs Black Real Elo: 825\n",
      "White Prediction: 2049 vs White Real Elo: 984\n",
      "Black Prediction: 1712 vs Black Real Elo: 1084\n",
      "White Prediction: 1684 vs White Real Elo: 2468\n",
      "Black Prediction: 1897 vs Black Real Elo: 2372\n",
      "White Prediction: 1311 vs White Real Elo: 1940\n",
      "Black Prediction: 1982 vs Black Real Elo: 1909\n",
      "White Prediction: 1221 vs White Real Elo: 728\n",
      "Black Prediction: 1072 vs Black Real Elo: 792\n",
      "White Prediction: 1428 vs White Real Elo: 1499\n",
      "Black Prediction: 1304 vs Black Real Elo: 1494\n",
      "White Prediction: 2124 vs White Real Elo: 1966\n",
      "Black Prediction: 2333 vs Black Real Elo: 1946\n",
      "White Prediction: 1543 vs White Real Elo: 2321\n",
      "Black Prediction: 1356 vs Black Real Elo: 2315\n",
      "White Prediction: 1890 vs White Real Elo: 2315\n",
      "Black Prediction: 2016 vs Black Real Elo: 2364\n",
      "White Prediction: 1306 vs White Real Elo: 946\n",
      "Black Prediction: 1421 vs Black Real Elo: 844\n",
      "White Prediction: 1411 vs White Real Elo: 1514\n",
      "Black Prediction: 2148 vs Black Real Elo: 1516\n",
      "White Prediction: 1268 vs White Real Elo: 756\n",
      "Black Prediction: 1125 vs Black Real Elo: 773\n",
      "White Prediction: 2108 vs White Real Elo: 1749\n",
      "Black Prediction: 2122 vs Black Real Elo: 1807\n",
      "White Prediction: 2220 vs White Real Elo: 1550\n",
      "Black Prediction: 2183 vs Black Real Elo: 1551\n",
      "White Prediction: 2272 vs White Real Elo: 2583\n",
      "Black Prediction: 1990 vs Black Real Elo: 2730\n",
      "White Prediction: 1806 vs White Real Elo: 1955\n",
      "Black Prediction: 2019 vs Black Real Elo: 1924\n",
      "White Prediction: 1253 vs White Real Elo: 773\n",
      "Black Prediction: 1462 vs Black Real Elo: 794\n",
      "White Prediction: 1627 vs White Real Elo: 1650\n",
      "Black Prediction: 1779 vs Black Real Elo: 1661\n",
      "White Prediction: 1392 vs White Real Elo: 2342\n",
      "Black Prediction: 1865 vs Black Real Elo: 2321\n",
      "White Prediction: 1712 vs White Real Elo: 1299\n",
      "Black Prediction: 1316 vs Black Real Elo: 1273\n",
      "White Prediction: 1331 vs White Real Elo: 1214\n",
      "Black Prediction: 1236 vs Black Real Elo: 1145\n",
      "White Prediction: 1406 vs White Real Elo: 2184\n",
      "Black Prediction: 1469 vs Black Real Elo: 2130\n",
      "White Prediction: 1734 vs White Real Elo: 2116\n",
      "Black Prediction: 2154 vs Black Real Elo: 2161\n",
      "White Prediction: 1745 vs White Real Elo: 1551\n",
      "Black Prediction: 1793 vs Black Real Elo: 1606\n",
      "White Prediction: 2070 vs White Real Elo: 2633\n",
      "Black Prediction: 2016 vs Black Real Elo: 2686\n",
      "White Prediction: 1479 vs White Real Elo: 1067\n",
      "Black Prediction: 1335 vs Black Real Elo: 1000\n",
      "White Prediction: 2180 vs White Real Elo: 2657\n",
      "Black Prediction: 2340 vs Black Real Elo: 2571\n",
      "White Prediction: 1250 vs White Real Elo: 798\n",
      "Black Prediction: 985 vs Black Real Elo: 751\n",
      "White Prediction: 2144 vs White Real Elo: 1773\n",
      "Black Prediction: 2160 vs Black Real Elo: 1835\n",
      "White Prediction: 2282 vs White Real Elo: 2475\n",
      "Black Prediction: 1964 vs Black Real Elo: 2399\n",
      "White Prediction: 1396 vs White Real Elo: 2350\n",
      "Black Prediction: 1091 vs Black Real Elo: 2325\n",
      "White Prediction: 1120 vs White Real Elo: 781\n",
      "Black Prediction: 917 vs Black Real Elo: 810\n",
      "White Prediction: 1395 vs White Real Elo: 1248\n",
      "Black Prediction: 2151 vs Black Real Elo: 1242\n",
      "White Prediction: 1989 vs White Real Elo: 2179\n",
      "Black Prediction: 2025 vs Black Real Elo: 2186\n",
      "White Prediction: 850 vs White Real Elo: 752\n",
      "Black Prediction: 1085 vs Black Real Elo: 819\n",
      "White Prediction: 2345 vs White Real Elo: 1769\n",
      "Black Prediction: 1894 vs Black Real Elo: 1774\n",
      "White Prediction: 1312 vs White Real Elo: 1675\n",
      "Black Prediction: 1461 vs Black Real Elo: 1663\n",
      "White Prediction: 2147 vs White Real Elo: 2376\n",
      "Black Prediction: 2477 vs Black Real Elo: 2362\n",
      "White Prediction: 2319 vs White Real Elo: 1926\n",
      "Black Prediction: 1974 vs Black Real Elo: 1958\n",
      "White Prediction: 1893 vs White Real Elo: 1320\n",
      "Black Prediction: 2221 vs Black Real Elo: 1360\n",
      "White Prediction: 1837 vs White Real Elo: 1572\n",
      "Black Prediction: 2347 vs Black Real Elo: 1572\n",
      "White Prediction: 1282 vs White Real Elo: 1011\n",
      "Black Prediction: 2044 vs Black Real Elo: 957\n",
      "Average Loss: 2.259302498792706\n"
     ]
    }
   ],
   "source": [
    "total_loss = 0\n",
    "\n",
    "for x, y in zip(x_test, y_test):\n",
    "    out = lstm_model.forward(x[0], train=False)[0]\n",
    "    print(f\"White Prediction: {guess_elo_range(out[0])} vs White Real Elo: {guess_elo_range(y[0])}\")\n",
    "    loss = loss_func(out, y[0].unsqueeze(0))\n",
    "    total_loss += loss.item()\n",
    "\n",
    "    out = lstm_model.forward(x[1], train=False)[0]\n",
    "    print(f\"Black Prediction: {guess_elo_range(out[0])} vs Black Real Elo: {guess_elo_range(y[1])}\")\n",
    "    loss = loss_func(out, y[1].unsqueeze(0))\n",
    "    total_loss += loss.item()\n",
    "    \n",
    "print(f\"Average Loss: {total_loss / (len(x_test) * 2)}\")"
   ]
  }
 ],
 "metadata": {
  "kernelspec": {
   "display_name": "Python 3",
   "language": "python",
   "name": "python3"
  },
  "language_info": {
   "codemirror_mode": {
    "name": "ipython",
    "version": 3
   },
   "file_extension": ".py",
   "mimetype": "text/x-python",
   "name": "python",
   "nbconvert_exporter": "python",
   "pygments_lexer": "ipython3",
   "version": "3.10.10"
  },
  "orig_nbformat": 4
 },
 "nbformat": 4,
 "nbformat_minor": 2
}
