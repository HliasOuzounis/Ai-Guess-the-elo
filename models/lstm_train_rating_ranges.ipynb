{
 "cells": [
  {
   "cell_type": "code",
   "execution_count": 1,
   "metadata": {},
   "outputs": [],
   "source": [
    "import torch"
   ]
  },
  {
   "cell_type": "markdown",
   "metadata": {},
   "source": [
    "### Load Analyzed Games"
   ]
  },
  {
   "cell_type": "code",
   "execution_count": 2,
   "metadata": {},
   "outputs": [],
   "source": [
    "dataset = torch.load(\"../datasets/all_games_analyzed.pt\")"
   ]
  },
  {
   "cell_type": "code",
   "execution_count": 3,
   "metadata": {},
   "outputs": [
    {
     "name": "stdout",
     "output_type": "stream",
     "text": [
      "Number of games: 2000\n",
      "Moves of first game: 14\n",
      "Input size: 771\n"
     ]
    }
   ],
   "source": [
    "# dataset is of the form [(white_analysis, black_analysis), (white_elo, black_elo)]\n",
    "print(f\"Number of games: {len(dataset)}\")\n",
    "print(f\"Moves of first game: {len(dataset[0][0][0])}\")\n",
    "print(f\"Input size: {len(dataset[0][0][0][0])}\")\n",
    "\n",
    "input_size = len(dataset[0][0][0][0])"
   ]
  },
  {
   "cell_type": "markdown",
   "metadata": {},
   "source": [
    "### Define the Model"
   ]
  },
  {
   "cell_type": "code",
   "execution_count": 5,
   "metadata": {},
   "outputs": [],
   "source": [
    "from lstm_network import initialize_model"
   ]
  },
  {
   "cell_type": "code",
   "execution_count": 6,
   "metadata": {},
   "outputs": [
    {
     "name": "stdout",
     "output_type": "stream",
     "text": [
      "Using GPU: NVIDIA GeForce MX230\n"
     ]
    }
   ],
   "source": [
    "# Switch to GPU if available for faster calculations\n",
    "if torch.cuda.is_available():\n",
    "    torch.cuda.empty_cache()\n",
    "    device = torch.device(\"cuda\")          # Use CUDA device\n",
    "    print('Using GPU:', torch.cuda.get_device_name(0))\n",
    "else:\n",
    "    device = torch.device(\"cpu\") "
   ]
  },
  {
   "cell_type": "code",
   "execution_count": 7,
   "metadata": {},
   "outputs": [],
   "source": [
    "hidden_size = 128\n",
    "num_layers = 2\n",
    "lstm_model, optimizer = initialize_model(input_size, hidden_size, num_layers, device, num_classes=10)"
   ]
  },
  {
   "cell_type": "markdown",
   "metadata": {},
   "source": [
    "### Modify the dataset for training"
   ]
  },
  {
   "cell_type": "code",
   "execution_count": 8,
   "metadata": {},
   "outputs": [],
   "source": [
    "# These are the rating ranges the model will try to classify\n",
    "rating_ranges = [\n",
    "    (400, 900),\n",
    "    (900, 1100),\n",
    "    (1100, 1300),\n",
    "    (1300, 1500),\n",
    "    (1500, 1700),\n",
    "    (1700, 1900),\n",
    "    (1900, 2100),\n",
    "    (2100, 2300),\n",
    "    (2300, 2500),\n",
    "    (2500, 3000),\n",
    "]\n",
    "\n",
    "# Suppose the elo of a player is a normal distribution with mean = elo and stdv = 100\n",
    "# calculate the probability of the player being in each range by integrating the normal distribution in that range\n",
    "def calculate_elo_range(elo):\n",
    "    import scipy.stats as st\n",
    "\n",
    "    stdv = 100\n",
    "    return torch.tensor([\n",
    "            st.norm.cdf(r[1], loc=elo, scale=stdv)\n",
    "            - st.norm.cdf(r[0], loc=elo, scale=stdv)\n",
    "            for r in rating_ranges\n",
    "        ])\n",
    "\n",
    "# Based on probability distribution per rating range\n",
    "# Try to guess the mean elo of the player\n",
    "def guess_elo_range(elo_range):\n",
    "    s = 0\n",
    "    for r, probability in zip(rating_ranges, elo_range):\n",
    "        s += probability * (r[0] + r[1]) / 2\n",
    "\n",
    "    return int(s / sum(elo_range))"
   ]
  },
  {
   "cell_type": "code",
   "execution_count": 9,
   "metadata": {},
   "outputs": [],
   "source": [
    "import random\n",
    "\n",
    "total_games = len(dataset)\n",
    "\n",
    "classes = len(rating_ranges)\n",
    "\n",
    "# Spilt into train and test data\n",
    "test_games = int(total_games * 0.15)\n",
    "\n",
    "random.shuffle(dataset)\n",
    "\n",
    "x_train = [torch.stack(game[0]).to(device) for game in dataset[:-test_games]]\n",
    "y_train = [torch.stack([calculate_elo_range(side) for side in game[1]]).to(device) for game in dataset[:-test_games]]\n",
    "x_test  = [torch.stack(game[0]).to(device) for game in dataset[-test_games:]]\n",
    "y_test  = [torch.stack([calculate_elo_range(side) for side in game[1]]).to(device) for game in dataset[-test_games:]]"
   ]
  },
  {
   "cell_type": "markdown",
   "metadata": {},
   "source": [
    "### Train the model"
   ]
  },
  {
   "cell_type": "code",
   "execution_count": 12,
   "metadata": {},
   "outputs": [],
   "source": [
    "from lstm_network import train_model"
   ]
  },
  {
   "cell_type": "code",
   "execution_count": 13,
   "metadata": {},
   "outputs": [
    {
     "name": "stdout",
     "output_type": "stream",
     "text": [
      "Epoch: 1, Validation Loss: 2.332338783854256\n",
      "Epoch: 2, Validation Loss: 2.3055000881872356\n",
      "Epoch: 3, Validation Loss: 2.3207318784442545\n",
      "Epoch: 4, Validation Loss: 2.2287839770589035\n",
      "Epoch: 5, Validation Loss: 2.181436402950518\n",
      "Epoch: 6, Validation Loss: 2.15850514361056\n",
      "Epoch: 7, Validation Loss: 2.1826644062204\n",
      "Epoch: 8, Validation Loss: 2.130972295054387\n",
      "Epoch: 9, Validation Loss: 2.1923419478175763\n",
      "Epoch: 10, Validation Loss: 2.1385866835226834\n"
     ]
    }
   ],
   "source": [
    "# CrossEntropyLoss is commonly used for classification problems\n",
    "# Since this is not technically a classification problem, I'm not sure it's the best choice \n",
    "loss_func = torch.nn.CrossEntropyLoss()\n",
    "\n",
    "loss_graph = train_model(lstm_model, optimizer, loss_func, (x_train, y_train), num_epochs=10)"
   ]
  },
  {
   "cell_type": "code",
   "execution_count": 14,
   "metadata": {},
   "outputs": [
    {
     "data": {
      "text/plain": [
       "[<matplotlib.lines.Line2D at 0x7f2a21058a30>]"
      ]
     },
     "execution_count": 14,
     "metadata": {},
     "output_type": "execute_result"
    },
    {
     "data": {
      "image/png": "[encoded data removed]",
      "text/plain": [
       "<Figure size 640x480 with 1 Axes>"
      ]
     },
     "metadata": {},
     "output_type": "display_data"
    }
   ],
   "source": [
    "import matplotlib.pyplot as plt\n",
    "\n",
    "# Visualize the loss as the network trained\n",
    "# Should be a downward trend\n",
    "plt.plot(loss_graph)\n",
    "\n",
    "# With 10 classes a radnom model would have -log(1/10) = 2.3 loss"
   ]
  },
  {
   "attachments": {},
   "cell_type": "markdown",
   "metadata": {},
   "source": [
    "### Test how the model predicts new data\n",
    "\n",
    "The predictions of the model are compared to a random guessing and a constant guessing model"
   ]
  },
  {
   "cell_type": "code",
   "execution_count": 15,
   "metadata": {},
   "outputs": [
    {
     "name": "stdout",
     "output_type": "stream",
     "text": [
      "Average Loss: 2.2665792208065283\n",
      "Correct range guesses: 120 / 600 = 0.20\n"
     ]
    }
   ],
   "source": [
    "total_loss = 0\n",
    "\n",
    "predictions = []\n",
    "real_values = []\n",
    "c = 0\n",
    "\n",
    "for x, y in zip(x_test, y_test):\n",
    "    # Predict for white and black\n",
    "    out = lstm_model(x[0], train=False)[0] # [0] because model returns (output, (hidden_state, cell_state))\n",
    "    loss = loss_func(out, y[0].unsqueeze(0)) # unsqueeze because loss function expects a batch\n",
    "    total_loss += loss.item()\n",
    "    \n",
    "    predictions.append(guess_elo_range(out[0])) # [0] because out is a batch\n",
    "    real_values.append(guess_elo_range(y[0]))\n",
    "    \n",
    "    # If the model gave the correct range the maximum probability we can count it as a correct guess\n",
    "    if (out[0].argmax() == y[0].argmax()): \n",
    "        c += 1\n",
    "\n",
    "    out = lstm_model(x[1], train=False)[0]\n",
    "    loss = loss_func(out, y[1].unsqueeze(0))\n",
    "    total_loss += loss.item()\n",
    "    \n",
    "    predictions.append(guess_elo_range(out[0]))\n",
    "    real_values.append(guess_elo_range(y[1]))\n",
    "\n",
    "    if out[0].argmax() == y[1].argmax():\n",
    "        c += 1\n",
    "    \n",
    "print(f\"Average Loss: {total_loss / (len(x_test) * 2)}\") # Should ideally be less than 2.3\n",
    "print(f\"Correct range guesses: {c} / {len(x_test) * 2} = {c / (len(x_test) * 2):.2f}\")"
   ]
  },
  {
   "cell_type": "code",
   "execution_count": 18,
   "metadata": {},
   "outputs": [
    {
     "name": "stdout",
     "output_type": "stream",
     "text": [
      "Correctly predicted 30.83% of games\n",
      "185 out of 600 predictions\n"
     ]
    }
   ],
   "source": [
    "\n",
    "def rate_predictions(predictions, real_values):\n",
    "    correct = 0\n",
    "    leeway = 200\n",
    "    for prediction, real in zip(predictions, real_values):\n",
    "        if real - leeway <= prediction <= real + leeway:\n",
    "            correct += 1\n",
    "    return correct / len(predictions), correct\n",
    "\n",
    "percentage, correct = rate_predictions(predictions, real_values)\n",
    "print(f\"Correctly predicted {percentage * 100:.2f}% of games\")\n",
    "print(f\"{correct} out of {len(predictions)} predictions\")"
   ]
  },
  {
   "cell_type": "code",
   "execution_count": 30,
   "metadata": {},
   "outputs": [
    {
     "name": "stdout",
     "output_type": "stream",
     "text": [
      "Correctly guessed at random 18.17% of games\n",
      "109 out of 600 predictions\n"
     ]
    }
   ],
   "source": [
    "# Compare the model to a random guess. Random values for each rating range\n",
    "import random\n",
    "\n",
    "random_predictions = [guess_elo_range([random.random() for _ in range(classes)]) for _ in range(len(predictions))]\n",
    "percentage, correct = rate_predictions(random_predictions, real_values)\n",
    "print(f\"Correctly guessed at random {percentage * 100:.2f}% of games\")\n",
    "print(f\"{correct} out of {len(random_predictions)} predictions\")   "
   ]
  },
  {
   "cell_type": "code",
   "execution_count": 27,
   "metadata": {},
   "outputs": [
    {
     "name": "stdout",
     "output_type": "stream",
     "text": [
      "Correctly guessed with constant guess 17.50% of games\n",
      "105 out of 600 predictions\n"
     ]
    }
   ],
   "source": [
    "# Compare the model to a constant guess. Equal probability for each rating range\n",
    "# Outputs a guess somewhere in the middle\n",
    "\n",
    "constant_predictions = [guess_elo_range([1/classes for _ in range(classes)]) for _ in range(len(predictions))]\n",
    "percentage, correct = rate_predictions(constant_predictions, real_values)\n",
    "print(f\"Correctly guessed with constant guess {percentage * 100:.2f}% of games\")\n",
    "print(f\"{correct} out of {len(constant_predictions)} predictions\")   "
   ]
  },
  {
   "cell_type": "code",
   "execution_count": null,
   "metadata": {},
   "outputs": [],
   "source": [
    "# If the results are acceptable, save the model\n",
    "torch.save(lstm_model.state_dict(), \"lstm_model_rating_ranges.pt\")"
   ]
  }
 ],
 "metadata": {
  "kernelspec": {
   "display_name": "Python 3",
   "language": "python",
   "name": "python3"
  },
  "language_info": {
   "codemirror_mode": {
    "name": "ipython",
    "version": 3
   },
   "file_extension": ".py",
   "mimetype": "text/x-python",
   "name": "python",
   "nbconvert_exporter": "python",
   "pygments_lexer": "ipython3",
   "version": "3.10.10"
  },
  "orig_nbformat": 4
 },
 "nbformat": 4,
 "nbformat_minor": 2
}
