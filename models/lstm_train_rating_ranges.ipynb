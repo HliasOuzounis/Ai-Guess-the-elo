{
 "cells": [
  {
   "cell_type": "code",
   "execution_count": 4,
   "metadata": {},
   "outputs": [],
   "source": [
    "import torch"
   ]
  },
  {
   "cell_type": "markdown",
   "metadata": {},
   "source": [
    "### Load Analyzed Games"
   ]
  },
  {
   "cell_type": "code",
   "execution_count": 5,
   "metadata": {},
   "outputs": [],
   "source": [
    "dataset = torch.load(\"../datasets/all_games_analyzed.pt\")"
   ]
  },
  {
   "cell_type": "code",
   "execution_count": 6,
   "metadata": {},
   "outputs": [
    {
     "name": "stdout",
     "output_type": "stream",
     "text": [
      "Number of games: 2000\n",
      "Moves of first game: 14\n",
      "Input size: 771\n"
     ]
    }
   ],
   "source": [
    "# dataset is of the form [(white_analysis, black_analysis), (white_elo, black_elo)]\n",
    "print(f\"Number of games: {len(dataset)}\")\n",
    "print(f\"Moves of first game: {len(dataset[0][0][0])}\")\n",
    "print(f\"Input size: {len(dataset[0][0][0][0])}\")\n",
    "\n",
    "input_size = len(dataset[0][0][0][0])"
   ]
  },
  {
   "cell_type": "markdown",
   "metadata": {},
   "source": [
    "### Define the Model"
   ]
  },
  {
   "cell_type": "code",
   "execution_count": 7,
   "metadata": {},
   "outputs": [],
   "source": [
    "from lstm_network import initialize_model"
   ]
  },
  {
   "cell_type": "code",
   "execution_count": 8,
   "metadata": {},
   "outputs": [
    {
     "name": "stdout",
     "output_type": "stream",
     "text": [
      "Using GPU: NVIDIA GeForce MX230\n"
     ]
    }
   ],
   "source": [
    "# Switch to GPU if available for faster calculations\n",
    "if torch.cuda.is_available():\n",
    "    torch.cuda.empty_cache()\n",
    "    device = torch.device(\"cuda\")          # Use CUDA device\n",
    "    print('Using GPU:', torch.cuda.get_device_name(0))\n",
    "else:\n",
    "    device = torch.device(\"cpu\") "
   ]
  },
  {
   "cell_type": "code",
   "execution_count": 12,
   "metadata": {},
   "outputs": [],
   "source": [
    "hidden_size = 128\n",
    "num_layers = 2\n",
    "lstm_model, optimizer = initialize_model(input_size, hidden_size, num_layers, device, num_classes=10)"
   ]
  },
  {
   "cell_type": "markdown",
   "metadata": {},
   "source": [
    "### Modify the dataset for training"
   ]
  },
  {
   "cell_type": "code",
   "execution_count": 13,
   "metadata": {},
   "outputs": [],
   "source": [
    "# These are the rating ranges the model will try to classify\n",
    "rating_ranges = [\n",
    "    (400, 900),\n",
    "    (900, 1100),\n",
    "    (1100, 1300),\n",
    "    (1300, 1500),\n",
    "    (1500, 1700),\n",
    "    (1700, 1900),\n",
    "    (1900, 2100),\n",
    "    (2100, 2300),\n",
    "    (2300, 2500),\n",
    "    (2500, 3000),\n",
    "]\n",
    "\n",
    "# Suppose the elo of a player is a normal distribution with mean = elo and stdv = 100\n",
    "# calculate the probability of the player being in each range by integrating the normal distribution in that range\n",
    "def calculate_elo_range(elo):\n",
    "    import scipy.stats as st\n",
    "\n",
    "    stdv = 100\n",
    "    return torch.tensor([\n",
    "            st.norm.cdf(r[1], loc=elo, scale=stdv)\n",
    "            - st.norm.cdf(r[0], loc=elo, scale=stdv)\n",
    "            for r in rating_ranges\n",
    "        ])\n",
    "\n",
    "# Based on probability distribution per rating range\n",
    "# Try to guess the mean elo of the player\n",
    "def guess_elo_range(elo_range):\n",
    "    s = 0\n",
    "    for r, probability in zip(rating_ranges, elo_range):\n",
    "        s += probability * (r[0] + r[1]) / 2\n",
    "\n",
    "    return int(s / sum(elo_range))"
   ]
  },
  {
   "cell_type": "code",
   "execution_count": 14,
   "metadata": {},
   "outputs": [],
   "source": [
    "import random\n",
    "\n",
    "total_games = len(dataset)\n",
    "\n",
    "classes = len(rating_ranges)\n",
    "\n",
    "# Spilt into train and test data\n",
    "test_games = int(total_games * 0.15)\n",
    "\n",
    "random.shuffle(dataset)\n",
    "\n",
    "x_train = [torch.stack(game[0]).to(device) for game in dataset[:-test_games]]\n",
    "y_train = [torch.stack([calculate_elo_range(side) for side in game[1]]).to(device) for game in dataset[:-test_games]]\n",
    "x_test  = [torch.stack(game[0]).to(device) for game in dataset[-test_games:]]\n",
    "y_test  = [torch.stack([calculate_elo_range(side) for side in game[1]]).to(device) for game in dataset[-test_games:]]"
   ]
  },
  {
   "cell_type": "markdown",
   "metadata": {},
   "source": [
    "### Train the model"
   ]
  },
  {
   "cell_type": "code",
   "execution_count": 15,
   "metadata": {},
   "outputs": [],
   "source": [
    "from lstm_network import train_model"
   ]
  },
  {
   "cell_type": "code",
   "execution_count": 16,
   "metadata": {},
   "outputs": [
    {
     "ename": "KeyboardInterrupt",
     "evalue": "",
     "output_type": "error",
     "traceback": [
      "\u001b[0;31m---------------------------------------------------------------------------\u001b[0m",
      "\u001b[0;31mKeyboardInterrupt\u001b[0m                         Traceback (most recent call last)",
      "Cell \u001b[0;32mIn[16], line 5\u001b[0m\n\u001b[1;32m      1\u001b[0m \u001b[39m# CrossEntropyLoss is commonly used for classification problems\u001b[39;00m\n\u001b[1;32m      2\u001b[0m \u001b[39m# Since this is not technically a classification problem, I'm not sure it's the best choice \u001b[39;00m\n\u001b[1;32m      3\u001b[0m loss_func \u001b[39m=\u001b[39m torch\u001b[39m.\u001b[39mnn\u001b[39m.\u001b[39mCrossEntropyLoss()\n\u001b[0;32m----> 5\u001b[0m loss_graph \u001b[39m=\u001b[39m train_model(lstm_model, optimizer, loss_func, (x_train, y_train), num_epochs\u001b[39m=\u001b[39;49m\u001b[39m10\u001b[39;49m)\n",
      "File \u001b[0;32m~/code/elo_guesser/models/lstm_network.py:96\u001b[0m, in \u001b[0;36mtrain_model\u001b[0;34m(model, optimizer, loss_func, train_data, num_epochs)\u001b[0m\n\u001b[1;32m     92\u001b[0m \u001b[39mfor\u001b[39;00m epoch \u001b[39min\u001b[39;00m \u001b[39mrange\u001b[39m(num_epochs):\n\u001b[1;32m     93\u001b[0m     \u001b[39mfor\u001b[39;00m _batch, (x_game, y_game) \u001b[39min\u001b[39;00m \u001b[39menumerate\u001b[39m(\u001b[39mzip\u001b[39m(x_train, y_train)):\n\u001b[1;32m     94\u001b[0m \n\u001b[1;32m     95\u001b[0m         \u001b[39m# Reset the hidden and cell states\u001b[39;00m\n\u001b[0;32m---> 96\u001b[0m         cell_states \u001b[39m=\u001b[39m torch\u001b[39m.\u001b[39;49mzeros(model\u001b[39m.\u001b[39;49mnum_layers, batch_size, model\u001b[39m.\u001b[39;49mhidden_size)\u001b[39m.\u001b[39;49mto(model\u001b[39m.\u001b[39;49mdevice)\n\u001b[1;32m     97\u001b[0m         hidden_states \u001b[39m=\u001b[39m torch\u001b[39m.\u001b[39mzeros(model\u001b[39m.\u001b[39mnum_layers, batch_size, model\u001b[39m.\u001b[39mhidden_size)\u001b[39m.\u001b[39mto(model\u001b[39m.\u001b[39mdevice)\n\u001b[1;32m     99\u001b[0m         \u001b[39m# get output prediction\u001b[39;00m\n",
      "\u001b[0;31mKeyboardInterrupt\u001b[0m: "
     ]
    }
   ],
   "source": [
    "# CrossEntropyLoss is commonly used for classification problems\n",
    "# Since this is not technically a classification problem, I'm not sure it's the best choice \n",
    "loss_func = torch.nn.CrossEntropyLoss()\n",
    "\n",
    "loss_graph = train_model(lstm_model, optimizer, loss_func, (x_train, y_train), num_epochs=10)"
   ]
  },
  {
   "cell_type": "code",
   "execution_count": 13,
   "metadata": {},
   "outputs": [
    {
     "data": {
      "text/plain": [
       "Text(0, 0.5, 'Loss')"
      ]
     },
     "execution_count": 13,
     "metadata": {},
     "output_type": "execute_result"
    },
    {
     "data": {
      "image/png": "[encoded data removed]",
      "text/plain": [
       "<Figure size 640x480 with 1 Axes>"
      ]
     },
     "metadata": {},
     "output_type": "display_data"
    }
   ],
   "source": [
    "import matplotlib.pyplot as plt\n",
    "\n",
    "# Visualize the loss as the network trained\n",
    "# Should be a downward trend\n",
    "plt.plot(loss_graph)\n",
    "plt.title(\"Training loss plot: Rating Ranges model\")\n",
    "plt.xlabel(\"Epoch\")\n",
    "plt.ylabel(\"Loss\")\n",
    "# With 10 classes a radnom model would have -log(1/10) = 2.3 loss"
   ]
  },
  {
   "attachments": {},
   "cell_type": "markdown",
   "metadata": {},
   "source": [
    "### Test how the model predicts new data\n",
    "\n",
    "The predictions of the model are compared to a random guessing and a constant guessing model"
   ]
  },
  {
   "cell_type": "code",
   "execution_count": 15,
   "metadata": {},
   "outputs": [
    {
     "name": "stdout",
     "output_type": "stream",
     "text": [
      "Average Loss: 2.27002252761785\n",
      "Correct range guesses: 88 / 600 = 0.15\n"
     ]
    }
   ],
   "source": [
    "total_loss = 0\n",
    "\n",
    "predictions = []\n",
    "real_values = []\n",
    "c = 0\n",
    "\n",
    "for x, y in zip(x_test, y_test):\n",
    "    # Predict for white and black\n",
    "    out = lstm_model(x[0], train=False)[0] # [0] because model returns (output, (hidden_state, cell_state))\n",
    "    loss = loss_func(out, y[0].unsqueeze(0)) # unsqueeze because loss function expects a batch\n",
    "    total_loss += loss.item()\n",
    "    \n",
    "    predictions.append(guess_elo_range(out[0])) # [0] because out is a batch\n",
    "    real_values.append(guess_elo_range(y[0]))\n",
    "    \n",
    "    # If the model gave the correct range the maximum probability we can count it as a correct guess\n",
    "    if (out[0].argmax() == y[0].argmax()): \n",
    "        c += 1\n",
    "\n",
    "    out = lstm_model(x[1], train=False)[0]\n",
    "    loss = loss_func(out, y[1].unsqueeze(0))\n",
    "    total_loss += loss.item()\n",
    "    \n",
    "    predictions.append(guess_elo_range(out[0]))\n",
    "    real_values.append(guess_elo_range(y[1]))\n",
    "\n",
    "    if out[0].argmax() == y[1].argmax():\n",
    "        c += 1\n",
    "    \n",
    "print(f\"Average Loss: {total_loss / (len(x_test) * 2)}\") # Should ideally be less than 2.3\n",
    "print(f\"Correct range guesses: {c} / {len(x_test) * 2} = {c / (len(x_test) * 2):.2f}\")"
   ]
  },
  {
   "cell_type": "code",
   "execution_count": 16,
   "metadata": {},
   "outputs": [
    {
     "name": "stdout",
     "output_type": "stream",
     "text": [
      "Correctly predicted 28.17% of games\n",
      "169 out of 600 predictions\n",
      "Average difference: 412.89 elo\n",
      "Average prediction for high elo games: 1976.73 elo. Real average: 2218.07 elo\n",
      "Average prediction for low elo games: 1640.55 elo. Real average: 1210.48 elo\n"
     ]
    }
   ],
   "source": [
    "def rate_predictions(predictions, real_values):\n",
    "    correct = 0\n",
    "    diff = 0\n",
    "    high_elo = [0, 0]\n",
    "    low_elo = [0, 0]\n",
    "    real_high = 0\n",
    "    real_low = 0\n",
    "    # We give the model a leeway of +-200 points\n",
    "    # More leeway = more accuracy\n",
    "    leeway = 200\n",
    "    for prediction, real in zip(predictions, real_values):\n",
    "        if real - leeway <= prediction <= real + leeway:\n",
    "            correct += 1\n",
    "        diff += abs(prediction - real)\n",
    "        if real > 1700:\n",
    "            high_elo[0] += 1\n",
    "            high_elo[1] += prediction\n",
    "            real_high += real\n",
    "        if real <= 1700:\n",
    "            low_elo[0] += 1\n",
    "            low_elo[1] += prediction\n",
    "            real_low += real\n",
    "    return correct / len(predictions), correct, diff/len(predictions), high_elo[1]/high_elo[0], low_elo[1]/low_elo[0], real_high/high_elo[0], real_low/low_elo[0]\n",
    "\n",
    "percentage, correct, diff, high_predictions, low_predictions, real_high, real_low = rate_predictions(predictions, real_values)\n",
    "print(f\"Correctly predicted {percentage * 100:.2f}% of games\")\n",
    "print(f\"{correct} out of {len(predictions)} predictions\")\n",
    "print(f\"Average difference: {diff:.2f} elo\")\n",
    "print(f\"Average prediction for high elo games: {high_predictions:.2f} elo. Real average: {real_high:.2f} elo\")\n",
    "print(f\"Average prediction for low elo games: {low_predictions:.2f} elo. Real average: {real_low:.2f} elo\")\n"
   ]
  },
  {
   "cell_type": "code",
   "execution_count": 17,
   "metadata": {},
   "outputs": [
    {
     "name": "stdout",
     "output_type": "stream",
     "text": [
      "Correctly guessed at random 21.83% of games\n",
      "131 out of 600 predictions\n",
      "Average difference: 514.49 elo\n"
     ]
    }
   ],
   "source": [
    "# Compare the model to a random guess. Random values for each rating range\n",
    "import random\n",
    "\n",
    "random_predictions = [guess_elo_range([random.random() for _ in range(classes)]) for _ in range(len(predictions))]\n",
    "percentage, correct, diff, _, _, _, _ = rate_predictions(random_predictions, real_values)\n",
    "print(f\"Correctly guessed at random {percentage * 100:.2f}% of games\")\n",
    "print(f\"{correct} out of {len(random_predictions)} predictions\") \n",
    "print(f\"Average difference: {diff:.2f} elo\")  "
   ]
  },
  {
   "cell_type": "code",
   "execution_count": 18,
   "metadata": {},
   "outputs": [
    {
     "name": "stdout",
     "output_type": "stream",
     "text": [
      "Correctly guessed with constant guess 21.83% of games\n",
      "131 out of 600 predictions\n",
      "Average difference: 503.56 elo\n"
     ]
    }
   ],
   "source": [
    "# Compare the model to a constant guess. Equal probability for each rating range\n",
    "# Outputs a guess somewhere in the middle\n",
    "\n",
    "constant_predictions = [guess_elo_range([1/classes for _ in range(classes)]) for _ in range(len(predictions))]\n",
    "percentage, correct, diff, _, _, _, _ = rate_predictions(constant_predictions, real_values)\n",
    "print(f\"Correctly guessed with constant guess {percentage * 100:.2f}% of games\")\n",
    "print(f\"{correct} out of {len(constant_predictions)} predictions\")  \n",
    "print(f\"Average difference: {diff:.2f} elo\") "
   ]
  },
  {
   "cell_type": "code",
   "execution_count": 19,
   "metadata": {},
   "outputs": [],
   "source": [
    "# If the results are acceptable, save the model\n",
    "torch.save(lstm_model.state_dict(), \"lstm_model_rating_ranges.pt\")"
   ]
  }
 ],
 "metadata": {
  "kernelspec": {
   "display_name": "Python 3",
   "language": "python",
   "name": "python3"
  },
  "language_info": {
   "codemirror_mode": {
    "name": "ipython",
    "version": 3
   },
   "file_extension": ".py",
   "mimetype": "text/x-python",
   "name": "python",
   "nbconvert_exporter": "python",
   "pygments_lexer": "ipython3",
   "version": "3.11.3"
  },
  "orig_nbformat": 4
 },
 "nbformat": 4,
 "nbformat_minor": 2
}
